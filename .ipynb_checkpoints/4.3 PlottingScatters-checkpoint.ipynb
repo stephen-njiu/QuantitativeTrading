{
 "cells": [
  {
   "cell_type": "code",
   "execution_count": 38,
   "id": "6dbaca93",
   "metadata": {},
   "outputs": [
    {
     "name": "stdout",
     "output_type": "stream",
     "text": [
      "[*********************100%***********************]  1 of 1 completed\n"
     ]
    }
   ],
   "source": [
    "import yfinance as yf\n",
    "data = yf.download(tickers='BTC-USD', period='3mo', interval='1d')"
   ]
  },
  {
   "cell_type": "code",
   "execution_count": 36,
   "id": "894ae0f5",
   "metadata": {},
   "outputs": [
    {
     "data": {
      "text/html": [
       "<div>\n",
       "<style scoped>\n",
       "    .dataframe tbody tr th:only-of-type {\n",
       "        vertical-align: middle;\n",
       "    }\n",
       "\n",
       "    .dataframe tbody tr th {\n",
       "        vertical-align: top;\n",
       "    }\n",
       "\n",
       "    .dataframe thead th {\n",
       "        text-align: right;\n",
       "    }\n",
       "</style>\n",
       "<table border=\"1\" class=\"dataframe\">\n",
       "  <thead>\n",
       "    <tr style=\"text-align: right;\">\n",
       "      <th></th>\n",
       "      <th>Open</th>\n",
       "      <th>High</th>\n",
       "      <th>Low</th>\n",
       "      <th>Close</th>\n",
       "      <th>Adj Close</th>\n",
       "      <th>Volume</th>\n",
       "    </tr>\n",
       "    <tr>\n",
       "      <th>Date</th>\n",
       "      <th></th>\n",
       "      <th></th>\n",
       "      <th></th>\n",
       "      <th></th>\n",
       "      <th></th>\n",
       "      <th></th>\n",
       "    </tr>\n",
       "  </thead>\n",
       "  <tbody>\n",
       "    <tr>\n",
       "      <th>2022-02-04</th>\n",
       "      <td>37149.265625</td>\n",
       "      <td>41527.785156</td>\n",
       "      <td>37093.628906</td>\n",
       "      <td>41500.875000</td>\n",
       "      <td>41500.875000</td>\n",
       "      <td>29412210792</td>\n",
       "    </tr>\n",
       "    <tr>\n",
       "      <th>2022-02-05</th>\n",
       "      <td>41501.480469</td>\n",
       "      <td>41847.164062</td>\n",
       "      <td>41038.097656</td>\n",
       "      <td>41441.164062</td>\n",
       "      <td>41441.164062</td>\n",
       "      <td>19652846215</td>\n",
       "    </tr>\n",
       "    <tr>\n",
       "      <th>2022-02-06</th>\n",
       "      <td>41441.121094</td>\n",
       "      <td>42500.785156</td>\n",
       "      <td>41244.906250</td>\n",
       "      <td>42412.433594</td>\n",
       "      <td>42412.433594</td>\n",
       "      <td>16142097334</td>\n",
       "    </tr>\n",
       "    <tr>\n",
       "      <th>2022-02-07</th>\n",
       "      <td>42406.781250</td>\n",
       "      <td>44401.863281</td>\n",
       "      <td>41748.156250</td>\n",
       "      <td>43840.285156</td>\n",
       "      <td>43840.285156</td>\n",
       "      <td>28641855926</td>\n",
       "    </tr>\n",
       "    <tr>\n",
       "      <th>2022-02-08</th>\n",
       "      <td>43854.652344</td>\n",
       "      <td>45293.867188</td>\n",
       "      <td>42807.835938</td>\n",
       "      <td>44118.445312</td>\n",
       "      <td>44118.445312</td>\n",
       "      <td>33079398868</td>\n",
       "    </tr>\n",
       "    <tr>\n",
       "      <th>2022-02-09</th>\n",
       "      <td>44096.703125</td>\n",
       "      <td>44727.800781</td>\n",
       "      <td>43232.968750</td>\n",
       "      <td>44338.796875</td>\n",
       "      <td>44338.796875</td>\n",
       "      <td>23245887300</td>\n",
       "    </tr>\n",
       "    <tr>\n",
       "      <th>2022-02-10</th>\n",
       "      <td>44347.800781</td>\n",
       "      <td>45661.171875</td>\n",
       "      <td>43402.808594</td>\n",
       "      <td>43565.113281</td>\n",
       "      <td>43565.113281</td>\n",
       "      <td>32142048537</td>\n",
       "    </tr>\n",
       "    <tr>\n",
       "      <th>2022-02-11</th>\n",
       "      <td>43571.128906</td>\n",
       "      <td>43810.832031</td>\n",
       "      <td>42114.539062</td>\n",
       "      <td>42407.937500</td>\n",
       "      <td>42407.937500</td>\n",
       "      <td>26954925781</td>\n",
       "    </tr>\n",
       "    <tr>\n",
       "      <th>2022-02-12</th>\n",
       "      <td>42412.300781</td>\n",
       "      <td>42992.550781</td>\n",
       "      <td>41852.574219</td>\n",
       "      <td>42244.468750</td>\n",
       "      <td>42244.468750</td>\n",
       "      <td>18152390304</td>\n",
       "    </tr>\n",
       "    <tr>\n",
       "      <th>2022-02-13</th>\n",
       "      <td>42236.566406</td>\n",
       "      <td>42693.054688</td>\n",
       "      <td>41950.941406</td>\n",
       "      <td>42197.515625</td>\n",
       "      <td>42197.515625</td>\n",
       "      <td>14741589015</td>\n",
       "    </tr>\n",
       "    <tr>\n",
       "      <th>2022-02-14</th>\n",
       "      <td>42157.398438</td>\n",
       "      <td>42775.777344</td>\n",
       "      <td>41681.957031</td>\n",
       "      <td>42586.917969</td>\n",
       "      <td>42586.917969</td>\n",
       "      <td>20827783012</td>\n",
       "    </tr>\n",
       "    <tr>\n",
       "      <th>2022-02-15</th>\n",
       "      <td>42586.464844</td>\n",
       "      <td>44667.218750</td>\n",
       "      <td>42491.035156</td>\n",
       "      <td>44575.203125</td>\n",
       "      <td>44575.203125</td>\n",
       "      <td>22721659051</td>\n",
       "    </tr>\n",
       "    <tr>\n",
       "      <th>2022-02-16</th>\n",
       "      <td>44578.277344</td>\n",
       "      <td>44578.277344</td>\n",
       "      <td>43456.691406</td>\n",
       "      <td>43961.859375</td>\n",
       "      <td>43961.859375</td>\n",
       "      <td>19792547657</td>\n",
       "    </tr>\n",
       "    <tr>\n",
       "      <th>2022-02-17</th>\n",
       "      <td>43937.070312</td>\n",
       "      <td>44132.972656</td>\n",
       "      <td>40249.371094</td>\n",
       "      <td>40538.011719</td>\n",
       "      <td>40538.011719</td>\n",
       "      <td>26246662813</td>\n",
       "    </tr>\n",
       "    <tr>\n",
       "      <th>2022-02-18</th>\n",
       "      <td>40552.132812</td>\n",
       "      <td>40929.152344</td>\n",
       "      <td>39637.617188</td>\n",
       "      <td>40030.976562</td>\n",
       "      <td>40030.976562</td>\n",
       "      <td>23310007704</td>\n",
       "    </tr>\n",
       "    <tr>\n",
       "      <th>2022-02-19</th>\n",
       "      <td>40026.023438</td>\n",
       "      <td>40418.878906</td>\n",
       "      <td>39713.058594</td>\n",
       "      <td>40122.156250</td>\n",
       "      <td>40122.156250</td>\n",
       "      <td>13736557863</td>\n",
       "    </tr>\n",
       "    <tr>\n",
       "      <th>2022-02-20</th>\n",
       "      <td>40118.101562</td>\n",
       "      <td>40119.890625</td>\n",
       "      <td>38112.812500</td>\n",
       "      <td>38431.378906</td>\n",
       "      <td>38431.378906</td>\n",
       "      <td>18340576452</td>\n",
       "    </tr>\n",
       "    <tr>\n",
       "      <th>2022-02-21</th>\n",
       "      <td>38423.210938</td>\n",
       "      <td>39394.437500</td>\n",
       "      <td>36950.476562</td>\n",
       "      <td>37075.281250</td>\n",
       "      <td>37075.281250</td>\n",
       "      <td>29280402798</td>\n",
       "    </tr>\n",
       "    <tr>\n",
       "      <th>2022-02-22</th>\n",
       "      <td>37068.769531</td>\n",
       "      <td>38359.855469</td>\n",
       "      <td>36488.933594</td>\n",
       "      <td>38286.027344</td>\n",
       "      <td>38286.027344</td>\n",
       "      <td>25493150450</td>\n",
       "    </tr>\n",
       "    <tr>\n",
       "      <th>2022-02-23</th>\n",
       "      <td>38285.281250</td>\n",
       "      <td>39122.394531</td>\n",
       "      <td>37201.816406</td>\n",
       "      <td>37296.570312</td>\n",
       "      <td>37296.570312</td>\n",
       "      <td>21849073843</td>\n",
       "    </tr>\n",
       "    <tr>\n",
       "      <th>2022-02-24</th>\n",
       "      <td>37278.566406</td>\n",
       "      <td>38968.839844</td>\n",
       "      <td>34459.218750</td>\n",
       "      <td>38332.609375</td>\n",
       "      <td>38332.609375</td>\n",
       "      <td>46383802093</td>\n",
       "    </tr>\n",
       "    <tr>\n",
       "      <th>2022-02-25</th>\n",
       "      <td>38333.746094</td>\n",
       "      <td>39630.324219</td>\n",
       "      <td>38111.343750</td>\n",
       "      <td>39214.218750</td>\n",
       "      <td>39214.218750</td>\n",
       "      <td>26545599159</td>\n",
       "    </tr>\n",
       "    <tr>\n",
       "      <th>2022-02-26</th>\n",
       "      <td>39213.082031</td>\n",
       "      <td>40005.347656</td>\n",
       "      <td>38702.535156</td>\n",
       "      <td>39105.148438</td>\n",
       "      <td>39105.148438</td>\n",
       "      <td>17467554129</td>\n",
       "    </tr>\n",
       "    <tr>\n",
       "      <th>2022-02-27</th>\n",
       "      <td>39098.699219</td>\n",
       "      <td>39778.941406</td>\n",
       "      <td>37268.976562</td>\n",
       "      <td>37709.785156</td>\n",
       "      <td>37709.785156</td>\n",
       "      <td>23450127612</td>\n",
       "    </tr>\n",
       "    <tr>\n",
       "      <th>2022-02-28</th>\n",
       "      <td>37706.000000</td>\n",
       "      <td>43760.457031</td>\n",
       "      <td>37518.214844</td>\n",
       "      <td>43193.234375</td>\n",
       "      <td>43193.234375</td>\n",
       "      <td>35690014104</td>\n",
       "    </tr>\n",
       "    <tr>\n",
       "      <th>2022-03-01</th>\n",
       "      <td>43194.503906</td>\n",
       "      <td>44793.601562</td>\n",
       "      <td>42952.585938</td>\n",
       "      <td>44354.636719</td>\n",
       "      <td>44354.636719</td>\n",
       "      <td>32479047645</td>\n",
       "    </tr>\n",
       "    <tr>\n",
       "      <th>2022-03-02</th>\n",
       "      <td>44357.617188</td>\n",
       "      <td>45077.578125</td>\n",
       "      <td>43432.851562</td>\n",
       "      <td>43924.117188</td>\n",
       "      <td>43924.117188</td>\n",
       "      <td>29183112630</td>\n",
       "    </tr>\n",
       "    <tr>\n",
       "      <th>2022-03-03</th>\n",
       "      <td>43925.195312</td>\n",
       "      <td>44021.578125</td>\n",
       "      <td>41914.750000</td>\n",
       "      <td>42451.789062</td>\n",
       "      <td>42451.789062</td>\n",
       "      <td>24967782593</td>\n",
       "    </tr>\n",
       "    <tr>\n",
       "      <th>2022-03-04</th>\n",
       "      <td>42466.023438</td>\n",
       "      <td>42466.023438</td>\n",
       "      <td>41066.351562</td>\n",
       "      <td>41431.273438</td>\n",
       "      <td>41431.273438</td>\n",
       "      <td>29355763712</td>\n",
       "    </tr>\n",
       "  </tbody>\n",
       "</table>\n",
       "</div>"
      ],
      "text/plain": [
       "                    Open          High           Low         Close  \\\n",
       "Date                                                                 \n",
       "2022-02-04  37149.265625  41527.785156  37093.628906  41500.875000   \n",
       "2022-02-05  41501.480469  41847.164062  41038.097656  41441.164062   \n",
       "2022-02-06  41441.121094  42500.785156  41244.906250  42412.433594   \n",
       "2022-02-07  42406.781250  44401.863281  41748.156250  43840.285156   \n",
       "2022-02-08  43854.652344  45293.867188  42807.835938  44118.445312   \n",
       "2022-02-09  44096.703125  44727.800781  43232.968750  44338.796875   \n",
       "2022-02-10  44347.800781  45661.171875  43402.808594  43565.113281   \n",
       "2022-02-11  43571.128906  43810.832031  42114.539062  42407.937500   \n",
       "2022-02-12  42412.300781  42992.550781  41852.574219  42244.468750   \n",
       "2022-02-13  42236.566406  42693.054688  41950.941406  42197.515625   \n",
       "2022-02-14  42157.398438  42775.777344  41681.957031  42586.917969   \n",
       "2022-02-15  42586.464844  44667.218750  42491.035156  44575.203125   \n",
       "2022-02-16  44578.277344  44578.277344  43456.691406  43961.859375   \n",
       "2022-02-17  43937.070312  44132.972656  40249.371094  40538.011719   \n",
       "2022-02-18  40552.132812  40929.152344  39637.617188  40030.976562   \n",
       "2022-02-19  40026.023438  40418.878906  39713.058594  40122.156250   \n",
       "2022-02-20  40118.101562  40119.890625  38112.812500  38431.378906   \n",
       "2022-02-21  38423.210938  39394.437500  36950.476562  37075.281250   \n",
       "2022-02-22  37068.769531  38359.855469  36488.933594  38286.027344   \n",
       "2022-02-23  38285.281250  39122.394531  37201.816406  37296.570312   \n",
       "2022-02-24  37278.566406  38968.839844  34459.218750  38332.609375   \n",
       "2022-02-25  38333.746094  39630.324219  38111.343750  39214.218750   \n",
       "2022-02-26  39213.082031  40005.347656  38702.535156  39105.148438   \n",
       "2022-02-27  39098.699219  39778.941406  37268.976562  37709.785156   \n",
       "2022-02-28  37706.000000  43760.457031  37518.214844  43193.234375   \n",
       "2022-03-01  43194.503906  44793.601562  42952.585938  44354.636719   \n",
       "2022-03-02  44357.617188  45077.578125  43432.851562  43924.117188   \n",
       "2022-03-03  43925.195312  44021.578125  41914.750000  42451.789062   \n",
       "2022-03-04  42466.023438  42466.023438  41066.351562  41431.273438   \n",
       "\n",
       "               Adj Close       Volume  \n",
       "Date                                   \n",
       "2022-02-04  41500.875000  29412210792  \n",
       "2022-02-05  41441.164062  19652846215  \n",
       "2022-02-06  42412.433594  16142097334  \n",
       "2022-02-07  43840.285156  28641855926  \n",
       "2022-02-08  44118.445312  33079398868  \n",
       "2022-02-09  44338.796875  23245887300  \n",
       "2022-02-10  43565.113281  32142048537  \n",
       "2022-02-11  42407.937500  26954925781  \n",
       "2022-02-12  42244.468750  18152390304  \n",
       "2022-02-13  42197.515625  14741589015  \n",
       "2022-02-14  42586.917969  20827783012  \n",
       "2022-02-15  44575.203125  22721659051  \n",
       "2022-02-16  43961.859375  19792547657  \n",
       "2022-02-17  40538.011719  26246662813  \n",
       "2022-02-18  40030.976562  23310007704  \n",
       "2022-02-19  40122.156250  13736557863  \n",
       "2022-02-20  38431.378906  18340576452  \n",
       "2022-02-21  37075.281250  29280402798  \n",
       "2022-02-22  38286.027344  25493150450  \n",
       "2022-02-23  37296.570312  21849073843  \n",
       "2022-02-24  38332.609375  46383802093  \n",
       "2022-02-25  39214.218750  26545599159  \n",
       "2022-02-26  39105.148438  17467554129  \n",
       "2022-02-27  37709.785156  23450127612  \n",
       "2022-02-28  43193.234375  35690014104  \n",
       "2022-03-01  44354.636719  32479047645  \n",
       "2022-03-02  43924.117188  29183112630  \n",
       "2022-03-03  42451.789062  24967782593  \n",
       "2022-03-04  41431.273438  29355763712  "
      ]
     },
     "execution_count": 36,
     "metadata": {},
     "output_type": "execute_result"
    }
   ],
   "source": [
    "data"
   ]
  },
  {
   "cell_type": "code",
   "execution_count": 9,
   "id": "c30fdbb0",
   "metadata": {},
   "outputs": [
    {
     "data": {
      "image/png": "[encoded data removed]",
      "text/plain": [
       "<Figure size 432x288 with 1 Axes>"
      ]
     },
     "metadata": {
      "needs_background": "light"
     },
     "output_type": "display_data"
    }
   ],
   "source": [
    "dfpl = data[0:100]\n",
    "import matplotlib.pyplot as plt\n",
    "plt.plot(dfpl.index, dfpl.High, \"bo\")\n",
    "#color='green', marker='o', linestyle='dashed',linewidth=2, markersize=12\n",
    "plt.show()"
   ]
  },
  {
   "cell_type": "code",
   "execution_count": 57,
   "id": "55395150",
   "metadata": {},
   "outputs": [
    {
     "data": {
      "application/vnd.plotly.v1+json": {
       "config": {
        "plotlyServerURL": "https://plot.ly"
       },
       "data": [
        {
         "close": [
          49368.84765625,
          50582.625,
          50700.0859375,
          50504.796875,
          47672.12109375,
          47243.3046875,
          49362.5078125,
          50098.3359375,
          46737.48046875,
          46612.6328125,
          48896.72265625,
          47665.42578125,
          46202.14453125,
          46848.77734375,
          46707.015625,
          46880.27734375,
          48936.61328125,
          48628.51171875,
          50784.5390625,
          50822.1953125,
          50429.859375,
          50809.515625,
          50640.41796875,
          47588.85546875,
          46444.7109375,
          47178.125,
          46306.4453125,
          47686.8125,
          47345.21875,
          46458.1171875,
          45897.57421875,
          43569.00390625,
          43160.9296875,
          41557.90234375,
          41733.94140625,
          41911.6015625,
          41821.26171875,
          42735.85546875,
          43949.1015625,
          42591.5703125,
          43099.69921875,
          43177.3984375,
          43113.87890625,
          42250.55078125,
          42375.6328125,
          41744.328125,
          40680.41796875,
          36457.31640625,
          35030.25,
          36276.8046875,
          36654.328125,
          36954.00390625,
          36852.12109375,
          37138.234375,
          37784.33203125,
          38138.1796875,
          37917.6015625,
          38483.125,
          38743.2734375,
          36952.984375,
          37154.6015625,
          41500.875,
          41441.1640625,
          42412.43359375,
          43840.28515625,
          44118.4453125,
          44338.796875,
          43565.11328125,
          42407.9375,
          42244.46875,
          42197.515625,
          42586.91796875,
          44575.203125,
          43961.859375,
          40538.01171875,
          40030.9765625,
          40122.15625,
          38431.37890625,
          37075.28125,
          38286.02734375,
          37296.5703125,
          38332.609375,
          39214.21875,
          39105.1484375,
          37709.78515625,
          43193.234375,
          44354.63671875,
          43924.1171875,
          42451.7890625
         ],
         "decreasing": {
          "line": {
           "color": "mediumorchid"
          }
         },
         "high": [
          49768.1484375,
          50929.51953125,
          51934.78125,
          51171.375,
          50797.1640625,
          50015.25390625,
          49458.2109375,
          50724.8671875,
          50205,
          48431.3984375,
          49473.95703125,
          49425.57421875,
          48004.89453125,
          47313.828125,
          48089.6640625,
          47401.71875,
          49300.91796875,
          49544.796875,
          51332.33984375,
          51814.02734375,
          51176.59765625,
          51196.37890625,
          51956.328125,
          50679.859375,
          48119.7421875,
          47879.96484375,
          48472.52734375,
          47827.3125,
          47881.40625,
          47510.7265625,
          47406.546875,
          46929.046875,
          43748.71875,
          43153.5703125,
          42228.94140625,
          42663.94921875,
          42199.484375,
          43001.15625,
          44135.3671875,
          44278.421875,
          43346.6875,
          43724.671875,
          43436.80859375,
          43179.390625,
          42534.40234375,
          42478.3046875,
          43413.0234375,
          41060.52734375,
          36688.8125,
          36433.3125,
          37247.51953125,
          37444.5703125,
          38825.41015625,
          37148.32421875,
          37952.87890625,
          38576.26171875,
          38266.33984375,
          38647.26171875,
          39115.1328125,
          38834.6171875,
          37154.6015625,
          41527.78515625,
          41847.1640625,
          42500.78515625,
          44401.86328125,
          45293.8671875,
          44727.80078125,
          45661.171875,
          43810.83203125,
          42992.55078125,
          42693.0546875,
          42775.77734375,
          44667.21875,
          44578.27734375,
          44132.97265625,
          40929.15234375,
          40418.87890625,
          40119.890625,
          39394.4375,
          38359.85546875,
          39122.39453125,
          38968.83984375,
          39630.32421875,
          40005.34765625,
          39778.94140625,
          43760.45703125,
          44793.6015625,
          45077.578125,
          44021.578125
         ],
         "increasing": {
          "line": {
           "color": "yellow"
          }
         },
         "low": [
          47857.49609375,
          47281.03515625,
          50175.80859375,
          48765.98828125,
          47358.3515625,
          47023.69921875,
          46942.34765625,
          48725.8515625,
          45894.84765625,
          46424.49609375,
          46671.96484375,
          47529.87890625,
          45618.21484375,
          45598.44140625,
          46502.953125,
          45579.80859375,
          46698.7734375,
          48450.94140625,
          48065.8359375,
          50514.49609375,
          50236.70703125,
          49623.10546875,
          50499.46875,
          47414.2109375,
          46201.49609375,
          46060.3125,
          45819.953125,
          46288.484375,
          46856.9375,
          45835.96484375,
          45752.46484375,
          42798.22265625,
          42645.5390625,
          41077.4453125,
          40672.27734375,
          41338.16015625,
          39796.5703125,
          41407.75390625,
          42528.98828125,
          42447.04296875,
          41982.6171875,
          42669.03515625,
          42691.0234375,
          41680.3203125,
          41392.21484375,
          41242.9140625,
          40672.82421875,
          35791.42578125,
          34349.25,
          34784.96875,
          33184.05859375,
          35779.4296875,
          36374.90625,
          35629.28125,
          36211.109375,
          37406.47265625,
          37437.7109375,
          36733.57421875,
          38113.6640625,
          36832.73046875,
          36375.5390625,
          37093.62890625,
          41038.09765625,
          41244.90625,
          41748.15625,
          42807.8359375,
          43232.96875,
          43402.80859375,
          42114.5390625,
          41852.57421875,
          41950.94140625,
          41681.95703125,
          42491.03515625,
          43456.69140625,
          40249.37109375,
          39637.6171875,
          39713.05859375,
          38112.8125,
          36950.4765625,
          36488.93359375,
          37201.81640625,
          34459.21875,
          38111.34375,
          38702.53515625,
          37268.9765625,
          37518.21484375,
          42952.5859375,
          43432.8515625,
          41914.75
         ],
         "open": [
          49201.51953125,
          49413.48046875,
          50581.828125,
          50667.6484375,
          50450.08203125,
          47642.14453125,
          47264.6328125,
          49354.85546875,
          50114.7421875,
          46709.82421875,
          48379.75390625,
          48900.46484375,
          47653.73046875,
          46219.25390625,
          46853.8671875,
          46707.0625,
          46886.078125,
          48937.09765625,
          48626.34375,
          50806.05078125,
          50854.91796875,
          50428.69140625,
          50802.609375,
          50679.859375,
          47623.87109375,
          46490.60546875,
          47169.37109375,
          46311.74609375,
          47680.92578125,
          47343.54296875,
          46458.8515625,
          45899.359375,
          43565.51171875,
          43153.5703125,
          41561.46484375,
          41734.7265625,
          41910.23046875,
          41819.5078125,
          42742.1796875,
          43946.7421875,
          42598.87109375,
          43101.8984375,
          43172.0390625,
          43118.12109375,
          42250.07421875,
          42374.0390625,
          41744.02734375,
          40699.60546875,
          36471.58984375,
          35047.359375,
          36275.734375,
          36654.8046875,
          36950.515625,
          36841.87890625,
          37128.4453125,
          37780.71484375,
          38151.91796875,
          37920.28125,
          38481.765625,
          38743.71484375,
          36944.8046875,
          37149.265625,
          41501.48046875,
          41441.12109375,
          42406.78125,
          43854.65234375,
          44096.703125,
          44347.80078125,
          43571.12890625,
          42412.30078125,
          42236.56640625,
          42157.3984375,
          42586.46484375,
          44578.27734375,
          43937.0703125,
          40552.1328125,
          40026.0234375,
          40118.1015625,
          38423.2109375,
          37068.76953125,
          38285.28125,
          37278.56640625,
          38333.74609375,
          39213.08203125,
          39098.69921875,
          37706,
          43194.50390625,
          44357.6171875,
          43925.1953125
         ],
         "type": "candlestick",
         "x": [
          "2021-12-05T00:00:00",
          "2021-12-06T00:00:00",
          "2021-12-07T00:00:00",
          "2021-12-08T00:00:00",
          "2021-12-09T00:00:00",
          "2021-12-10T00:00:00",
          "2021-12-11T00:00:00",
          "2021-12-12T00:00:00",
          "2021-12-13T00:00:00",
          "2021-12-14T00:00:00",
          "2021-12-15T00:00:00",
          "2021-12-16T00:00:00",
          "2021-12-17T00:00:00",
          "2021-12-18T00:00:00",
          "2021-12-19T00:00:00",
          "2021-12-20T00:00:00",
          "2021-12-21T00:00:00",
          "2021-12-22T00:00:00",
          "2021-12-23T00:00:00",
          "2021-12-24T00:00:00",
          "2021-12-25T00:00:00",
          "2021-12-26T00:00:00",
          "2021-12-27T00:00:00",
          "2021-12-28T00:00:00",
          "2021-12-29T00:00:00",
          "2021-12-30T00:00:00",
          "2021-12-31T00:00:00",
          "2022-01-01T00:00:00",
          "2022-01-02T00:00:00",
          "2022-01-03T00:00:00",
          "2022-01-04T00:00:00",
          "2022-01-05T00:00:00",
          "2022-01-06T00:00:00",
          "2022-01-07T00:00:00",
          "2022-01-08T00:00:00",
          "2022-01-09T00:00:00",
          "2022-01-10T00:00:00",
          "2022-01-11T00:00:00",
          "2022-01-12T00:00:00",
          "2022-01-13T00:00:00",
          "2022-01-14T00:00:00",
          "2022-01-15T00:00:00",
          "2022-01-16T00:00:00",
          "2022-01-17T00:00:00",
          "2022-01-18T00:00:00",
          "2022-01-19T00:00:00",
          "2022-01-20T00:00:00",
          "2022-01-21T00:00:00",
          "2022-01-22T00:00:00",
          "2022-01-23T00:00:00",
          "2022-01-24T00:00:00",
          "2022-01-25T00:00:00",
          "2022-01-26T00:00:00",
          "2022-01-27T00:00:00",
          "2022-01-28T00:00:00",
          "2022-01-29T00:00:00",
          "2022-01-30T00:00:00",
          "2022-01-31T00:00:00",
          "2022-02-01T00:00:00",
          "2022-02-02T00:00:00",
          "2022-02-03T00:00:00",
          "2022-02-04T00:00:00",
          "2022-02-05T00:00:00",
          "2022-02-06T00:00:00",
          "2022-02-07T00:00:00",
          "2022-02-08T00:00:00",
          "2022-02-09T00:00:00",
          "2022-02-10T00:00:00",
          "2022-02-11T00:00:00",
          "2022-02-12T00:00:00",
          "2022-02-13T00:00:00",
          "2022-02-14T00:00:00",
          "2022-02-15T00:00:00",
          "2022-02-16T00:00:00",
          "2022-02-17T00:00:00",
          "2022-02-18T00:00:00",
          "2022-02-19T00:00:00",
          "2022-02-20T00:00:00",
          "2022-02-21T00:00:00",
          "2022-02-22T00:00:00",
          "2022-02-23T00:00:00",
          "2022-02-24T00:00:00",
          "2022-02-25T00:00:00",
          "2022-02-26T00:00:00",
          "2022-02-27T00:00:00",
          "2022-02-28T00:00:00",
          "2022-03-01T00:00:00",
          "2022-03-02T00:00:00",
          "2022-03-03T00:00:00"
         ]
        },
        {
         "line": {
          "color": "red",
          "width": 2
         },
         "name": "Support/Resistance",
         "type": "scatter",
         "x": [
          "2021-12-05T00:00:00",
          "2021-12-06T00:00:00",
          "2021-12-07T00:00:00",
          "2021-12-08T00:00:00",
          "2021-12-09T00:00:00",
          "2021-12-10T00:00:00",
          "2021-12-11T00:00:00",
          "2021-12-12T00:00:00",
          "2021-12-13T00:00:00",
          "2021-12-14T00:00:00",
          "2021-12-15T00:00:00",
          "2021-12-16T00:00:00",
          "2021-12-17T00:00:00",
          "2021-12-18T00:00:00",
          "2021-12-19T00:00:00",
          "2021-12-20T00:00:00",
          "2021-12-21T00:00:00",
          "2021-12-22T00:00:00",
          "2021-12-23T00:00:00",
          "2021-12-24T00:00:00",
          "2021-12-25T00:00:00",
          "2021-12-26T00:00:00",
          "2021-12-27T00:00:00",
          "2021-12-28T00:00:00",
          "2021-12-29T00:00:00",
          "2021-12-30T00:00:00",
          "2021-12-31T00:00:00",
          "2022-01-01T00:00:00",
          "2022-01-02T00:00:00",
          "2022-01-03T00:00:00",
          "2022-01-04T00:00:00",
          "2022-01-05T00:00:00",
          "2022-01-06T00:00:00",
          "2022-01-07T00:00:00",
          "2022-01-08T00:00:00",
          "2022-01-09T00:00:00",
          "2022-01-10T00:00:00",
          "2022-01-11T00:00:00",
          "2022-01-12T00:00:00",
          "2022-01-13T00:00:00",
          "2022-01-14T00:00:00",
          "2022-01-15T00:00:00",
          "2022-01-16T00:00:00",
          "2022-01-17T00:00:00",
          "2022-01-18T00:00:00",
          "2022-01-19T00:00:00",
          "2022-01-20T00:00:00",
          "2022-01-21T00:00:00",
          "2022-01-22T00:00:00",
          "2022-01-23T00:00:00",
          "2022-01-24T00:00:00",
          "2022-01-25T00:00:00",
          "2022-01-26T00:00:00",
          "2022-01-27T00:00:00",
          "2022-01-28T00:00:00",
          "2022-01-29T00:00:00",
          "2022-01-30T00:00:00",
          "2022-01-31T00:00:00",
          "2022-02-01T00:00:00",
          "2022-02-02T00:00:00",
          "2022-02-03T00:00:00",
          "2022-02-04T00:00:00",
          "2022-02-05T00:00:00",
          "2022-02-06T00:00:00",
          "2022-02-07T00:00:00",
          "2022-02-08T00:00:00",
          "2022-02-09T00:00:00",
          "2022-02-10T00:00:00",
          "2022-02-11T00:00:00",
          "2022-02-12T00:00:00",
          "2022-02-13T00:00:00",
          "2022-02-14T00:00:00",
          "2022-02-15T00:00:00",
          "2022-02-16T00:00:00",
          "2022-02-17T00:00:00",
          "2022-02-18T00:00:00",
          "2022-02-19T00:00:00",
          "2022-02-20T00:00:00",
          "2022-02-21T00:00:00",
          "2022-02-22T00:00:00",
          "2022-02-23T00:00:00",
          "2022-02-24T00:00:00",
          "2022-02-25T00:00:00",
          "2022-02-26T00:00:00",
          "2022-02-27T00:00:00",
          "2022-02-28T00:00:00",
          "2022-03-01T00:00:00",
          "2022-03-02T00:00:00",
          "2022-03-03T00:00:00"
         ],
         "y": [
          45000,
          45000,
          45000,
          45000,
          45000,
          45000,
          45000,
          45000,
          45000,
          45000,
          45000,
          45000,
          45000,
          45000,
          45000,
          45000,
          45000,
          45000,
          45000,
          45000,
          45000,
          45000,
          45000,
          45000,
          45000,
          45000,
          45000,
          45000,
          45000,
          45000,
          45000,
          45000,
          45000,
          45000,
          45000,
          45000,
          45000,
          45000,
          45000,
          45000,
          45000,
          45000,
          45000,
          45000,
          45000,
          45000,
          45000,
          45000,
          45000,
          45000,
          45000,
          45000,
          45000,
          45000,
          45000,
          45000,
          45000,
          45000,
          45000,
          45000,
          45000,
          45000,
          45000,
          45000,
          45000,
          45000,
          45000,
          45000,
          45000,
          45000,
          45000,
          45000,
          45000,
          45000,
          45000,
          45000,
          45000,
          45000,
          45000,
          45000,
          45000,
          45000,
          45000,
          45000,
          45000,
          45000,
          45000,
          45000,
          45000
         ]
        },
        {
         "line": {
          "color": "red",
          "width": 2
         },
         "name": "Support/Resistance",
         "type": "scatter",
         "x": [
          "2021-12-05T00:00:00",
          "2021-12-06T00:00:00",
          "2021-12-07T00:00:00",
          "2021-12-08T00:00:00",
          "2021-12-09T00:00:00",
          "2021-12-10T00:00:00",
          "2021-12-11T00:00:00",
          "2021-12-12T00:00:00",
          "2021-12-13T00:00:00",
          "2021-12-14T00:00:00",
          "2021-12-15T00:00:00",
          "2021-12-16T00:00:00",
          "2021-12-17T00:00:00",
          "2021-12-18T00:00:00",
          "2021-12-19T00:00:00",
          "2021-12-20T00:00:00",
          "2021-12-21T00:00:00",
          "2021-12-22T00:00:00",
          "2021-12-23T00:00:00",
          "2021-12-24T00:00:00",
          "2021-12-25T00:00:00",
          "2021-12-26T00:00:00",
          "2021-12-27T00:00:00",
          "2021-12-28T00:00:00",
          "2021-12-29T00:00:00",
          "2021-12-30T00:00:00",
          "2021-12-31T00:00:00",
          "2022-01-01T00:00:00",
          "2022-01-02T00:00:00",
          "2022-01-03T00:00:00",
          "2022-01-04T00:00:00",
          "2022-01-05T00:00:00",
          "2022-01-06T00:00:00",
          "2022-01-07T00:00:00",
          "2022-01-08T00:00:00",
          "2022-01-09T00:00:00",
          "2022-01-10T00:00:00",
          "2022-01-11T00:00:00",
          "2022-01-12T00:00:00",
          "2022-01-13T00:00:00",
          "2022-01-14T00:00:00",
          "2022-01-15T00:00:00",
          "2022-01-16T00:00:00",
          "2022-01-17T00:00:00",
          "2022-01-18T00:00:00",
          "2022-01-19T00:00:00",
          "2022-01-20T00:00:00",
          "2022-01-21T00:00:00",
          "2022-01-22T00:00:00",
          "2022-01-23T00:00:00",
          "2022-01-24T00:00:00",
          "2022-01-25T00:00:00",
          "2022-01-26T00:00:00",
          "2022-01-27T00:00:00",
          "2022-01-28T00:00:00",
          "2022-01-29T00:00:00",
          "2022-01-30T00:00:00",
          "2022-01-31T00:00:00",
          "2022-02-01T00:00:00",
          "2022-02-02T00:00:00",
          "2022-02-03T00:00:00",
          "2022-02-04T00:00:00",
          "2022-02-05T00:00:00",
          "2022-02-06T00:00:00",
          "2022-02-07T00:00:00",
          "2022-02-08T00:00:00",
          "2022-02-09T00:00:00",
          "2022-02-10T00:00:00",
          "2022-02-11T00:00:00",
          "2022-02-12T00:00:00",
          "2022-02-13T00:00:00",
          "2022-02-14T00:00:00",
          "2022-02-15T00:00:00",
          "2022-02-16T00:00:00",
          "2022-02-17T00:00:00",
          "2022-02-18T00:00:00",
          "2022-02-19T00:00:00",
          "2022-02-20T00:00:00",
          "2022-02-21T00:00:00",
          "2022-02-22T00:00:00",
          "2022-02-23T00:00:00",
          "2022-02-24T00:00:00",
          "2022-02-25T00:00:00",
          "2022-02-26T00:00:00",
          "2022-02-27T00:00:00",
          "2022-02-28T00:00:00",
          "2022-03-01T00:00:00",
          "2022-03-02T00:00:00",
          "2022-03-03T00:00:00"
         ],
         "y": [
          51000,
          51000,
          51000,
          51000,
          51000,
          51000,
          51000,
          51000,
          51000,
          51000,
          51000,
          51000,
          51000,
          51000,
          51000,
          51000,
          51000,
          51000,
          51000,
          51000,
          51000,
          51000,
          51000,
          51000,
          51000,
          51000,
          51000,
          51000,
          51000,
          51000,
          51000,
          51000,
          51000,
          51000,
          51000,
          51000,
          51000,
          51000,
          51000,
          51000,
          51000,
          51000,
          51000,
          51000,
          51000,
          51000,
          51000,
          51000,
          51000,
          51000,
          51000,
          51000,
          51000,
          51000,
          51000,
          51000,
          51000,
          51000,
          51000,
          51000,
          51000,
          51000,
          51000,
          51000,
          51000,
          51000,
          51000,
          51000,
          51000,
          51000,
          51000,
          51000,
          51000,
          51000,
          51000,
          51000,
          51000,
          51000,
          51000,
          51000,
          51000,
          51000,
          51000,
          51000,
          51000,
          51000,
          51000,
          51000,
          51000
         ]
        },
        {
         "marker": {
          "color": "moccasin",
          "size": 1
         },
         "mode": "markers",
         "name": "Signal",
         "type": "scatter",
         "x": [
          "2021-12-05T00:00:00",
          "2021-12-06T00:00:00",
          "2021-12-07T00:00:00",
          "2021-12-08T00:00:00",
          "2021-12-09T00:00:00",
          "2021-12-10T00:00:00",
          "2021-12-11T00:00:00",
          "2021-12-12T00:00:00",
          "2021-12-13T00:00:00",
          "2021-12-14T00:00:00",
          "2021-12-15T00:00:00",
          "2021-12-16T00:00:00",
          "2021-12-17T00:00:00",
          "2021-12-18T00:00:00",
          "2021-12-19T00:00:00",
          "2021-12-20T00:00:00",
          "2021-12-21T00:00:00",
          "2021-12-22T00:00:00",
          "2021-12-23T00:00:00",
          "2021-12-24T00:00:00",
          "2021-12-25T00:00:00",
          "2021-12-26T00:00:00",
          "2021-12-27T00:00:00",
          "2021-12-28T00:00:00",
          "2021-12-29T00:00:00",
          "2021-12-30T00:00:00",
          "2021-12-31T00:00:00",
          "2022-01-01T00:00:00",
          "2022-01-02T00:00:00",
          "2022-01-03T00:00:00",
          "2022-01-04T00:00:00",
          "2022-01-05T00:00:00",
          "2022-01-06T00:00:00",
          "2022-01-07T00:00:00",
          "2022-01-08T00:00:00",
          "2022-01-09T00:00:00",
          "2022-01-10T00:00:00",
          "2022-01-11T00:00:00",
          "2022-01-12T00:00:00",
          "2022-01-13T00:00:00",
          "2022-01-14T00:00:00",
          "2022-01-15T00:00:00",
          "2022-01-16T00:00:00",
          "2022-01-17T00:00:00",
          "2022-01-18T00:00:00",
          "2022-01-19T00:00:00",
          "2022-01-20T00:00:00",
          "2022-01-21T00:00:00",
          "2022-01-22T00:00:00",
          "2022-01-23T00:00:00",
          "2022-01-24T00:00:00",
          "2022-01-25T00:00:00",
          "2022-01-26T00:00:00",
          "2022-01-27T00:00:00",
          "2022-01-28T00:00:00",
          "2022-01-29T00:00:00",
          "2022-01-30T00:00:00",
          "2022-01-31T00:00:00",
          "2022-02-01T00:00:00",
          "2022-02-02T00:00:00",
          "2022-02-03T00:00:00",
          "2022-02-04T00:00:00",
          "2022-02-05T00:00:00",
          "2022-02-06T00:00:00",
          "2022-02-07T00:00:00",
          "2022-02-08T00:00:00",
          "2022-02-09T00:00:00",
          "2022-02-10T00:00:00",
          "2022-02-11T00:00:00",
          "2022-02-12T00:00:00",
          "2022-02-13T00:00:00",
          "2022-02-14T00:00:00",
          "2022-02-15T00:00:00",
          "2022-02-16T00:00:00",
          "2022-02-17T00:00:00",
          "2022-02-18T00:00:00",
          "2022-02-19T00:00:00",
          "2022-02-20T00:00:00",
          "2022-02-21T00:00:00",
          "2022-02-22T00:00:00",
          "2022-02-23T00:00:00",
          "2022-02-24T00:00:00",
          "2022-02-25T00:00:00",
          "2022-02-26T00:00:00",
          "2022-02-27T00:00:00",
          "2022-02-28T00:00:00",
          "2022-03-01T00:00:00",
          "2022-03-02T00:00:00",
          "2022-03-03T00:00:00"
         ],
         "y": [
          47757.49609375,
          47181.03515625,
          50075.80859375,
          48665.98828125,
          47258.3515625,
          46923.69921875,
          46842.34765625,
          48625.8515625,
          45794.84765625,
          46324.49609375,
          46571.96484375,
          47429.87890625,
          45518.21484375,
          45498.44140625,
          46402.953125,
          45479.80859375,
          46598.7734375,
          48350.94140625,
          47965.8359375,
          50414.49609375,
          50136.70703125,
          49523.10546875,
          50399.46875,
          47314.2109375,
          46101.49609375,
          45960.3125,
          45719.953125,
          46188.484375,
          46756.9375,
          45735.96484375,
          45652.46484375,
          42698.22265625,
          42545.5390625,
          40977.4453125,
          40572.27734375,
          41238.16015625,
          39696.5703125,
          41307.75390625,
          42428.98828125,
          42347.04296875,
          41882.6171875,
          42569.03515625,
          42591.0234375,
          41580.3203125,
          41292.21484375,
          41142.9140625,
          40572.82421875,
          35691.42578125,
          34249.25,
          34684.96875,
          33084.05859375,
          35679.4296875,
          36274.90625,
          35529.28125,
          36111.109375,
          37306.47265625,
          37337.7109375,
          36633.57421875,
          38013.6640625,
          36732.73046875,
          36275.5390625,
          36993.62890625,
          40938.09765625,
          41144.90625,
          41648.15625,
          42707.8359375,
          43132.96875,
          43302.80859375,
          42014.5390625,
          41752.57421875,
          41850.94140625,
          41581.95703125,
          42391.03515625,
          43356.69140625,
          40149.37109375,
          39537.6171875,
          39613.05859375,
          38012.8125,
          36850.4765625,
          36388.93359375,
          37101.81640625,
          34359.21875,
          38011.34375,
          38602.53515625,
          37168.9765625,
          37418.21484375,
          42852.5859375,
          43332.8515625,
          41814.75
         ]
        }
       ],
       "layout": {
        "margin": {
         "b": 0,
         "l": 0,
         "r": 50,
         "t": 0
        },
        "paper_bgcolor": "black",
        "plot_bgcolor": "black",
        "template": {
         "data": {
          "bar": [
           {
            "error_x": {
             "color": "#2a3f5f"
            },
            "error_y": {
             "color": "#2a3f5f"
            },
            "marker": {
             "line": {
              "color": "#E5ECF6",
              "width": 0.5
             },
             "pattern": {
              "fillmode": "overlay",
              "size": 10,
              "solidity": 0.2
             }
            },
            "type": "bar"
           }
          ],
          "barpolar": [
           {
            "marker": {
             "line": {
              "color": "#E5ECF6",
              "width": 0.5
             },
             "pattern": {
              "fillmode": "overlay",
              "size": 10,
              "solidity": 0.2
             }
            },
            "type": "barpolar"
           }
          ],
          "carpet": [
           {
            "aaxis": {
             "endlinecolor": "#2a3f5f",
             "gridcolor": "white",
             "linecolor": "white",
             "minorgridcolor": "white",
             "startlinecolor": "#2a3f5f"
            },
            "baxis": {
             "endlinecolor": "#2a3f5f",
             "gridcolor": "white",
             "linecolor": "white",
             "minorgridcolor": "white",
             "startlinecolor": "#2a3f5f"
            },
            "type": "carpet"
           }
          ],
          "choropleth": [
           {
            "colorbar": {
             "outlinewidth": 0,
             "ticks": ""
            },
            "type": "choropleth"
           }
          ],
          "contour": [
           {
            "colorbar": {
             "outlinewidth": 0,
             "ticks": ""
            },
            "colorscale": [
             [
              0,
              "#0d0887"
             ],
             [
              0.1111111111111111,
              "#46039f"
             ],
             [
              0.2222222222222222,
              "#7201a8"
             ],
             [
              0.3333333333333333,
              "#9c179e"
             ],
             [
              0.4444444444444444,
              "#bd3786"
             ],
             [
              0.5555555555555556,
              "#d8576b"
             ],
             [
              0.6666666666666666,
              "#ed7953"
             ],
             [
              0.7777777777777778,
              "#fb9f3a"
             ],
             [
              0.8888888888888888,
              "#fdca26"
             ],
             [
              1,
              "#f0f921"
             ]
            ],
            "type": "contour"
           }
          ],
          "contourcarpet": [
           {
            "colorbar": {
             "outlinewidth": 0,
             "ticks": ""
            },
            "type": "contourcarpet"
           }
          ],
          "heatmap": [
           {
            "colorbar": {
             "outlinewidth": 0,
             "ticks": ""
            },
            "colorscale": [
             [
              0,
              "#0d0887"
             ],
             [
              0.1111111111111111,
              "#46039f"
             ],
             [
              0.2222222222222222,
              "#7201a8"
             ],
             [
              0.3333333333333333,
              "#9c179e"
             ],
             [
              0.4444444444444444,
              "#bd3786"
             ],
             [
              0.5555555555555556,
              "#d8576b"
             ],
             [
              0.6666666666666666,
              "#ed7953"
             ],
             [
              0.7777777777777778,
              "#fb9f3a"
             ],
             [
              0.8888888888888888,
              "#fdca26"
             ],
             [
              1,
              "#f0f921"
             ]
            ],
            "type": "heatmap"
           }
          ],
          "heatmapgl": [
           {
            "colorbar": {
             "outlinewidth": 0,
             "ticks": ""
            },
            "colorscale": [
             [
              0,
              "#0d0887"
             ],
             [
              0.1111111111111111,
              "#46039f"
             ],
             [
              0.2222222222222222,
              "#7201a8"
             ],
             [
              0.3333333333333333,
              "#9c179e"
             ],
             [
              0.4444444444444444,
              "#bd3786"
             ],
             [
              0.5555555555555556,
              "#d8576b"
             ],
             [
              0.6666666666666666,
              "#ed7953"
             ],
             [
              0.7777777777777778,
              "#fb9f3a"
             ],
             [
              0.8888888888888888,
              "#fdca26"
             ],
             [
              1,
              "#f0f921"
             ]
            ],
            "type": "heatmapgl"
           }
          ],
          "histogram": [
           {
            "marker": {
             "pattern": {
              "fillmode": "overlay",
              "size": 10,
              "solidity": 0.2
             }
            },
            "type": "histogram"
           }
          ],
          "histogram2d": [
           {
            "colorbar": {
             "outlinewidth": 0,
             "ticks": ""
            },
            "colorscale": [
             [
              0,
              "#0d0887"
             ],
             [
              0.1111111111111111,
              "#46039f"
             ],
             [
              0.2222222222222222,
              "#7201a8"
             ],
             [
              0.3333333333333333,
              "#9c179e"
             ],
             [
              0.4444444444444444,
              "#bd3786"
             ],
             [
              0.5555555555555556,
              "#d8576b"
             ],
             [
              0.6666666666666666,
              "#ed7953"
             ],
             [
              0.7777777777777778,
              "#fb9f3a"
             ],
             [
              0.8888888888888888,
              "#fdca26"
             ],
             [
              1,
              "#f0f921"
             ]
            ],
            "type": "histogram2d"
           }
          ],
          "histogram2dcontour": [
           {
            "colorbar": {
             "outlinewidth": 0,
             "ticks": ""
            },
            "colorscale": [
             [
              0,
              "#0d0887"
             ],
             [
              0.1111111111111111,
              "#46039f"
             ],
             [
              0.2222222222222222,
              "#7201a8"
             ],
             [
              0.3333333333333333,
              "#9c179e"
             ],
             [
              0.4444444444444444,
              "#bd3786"
             ],
             [
              0.5555555555555556,
              "#d8576b"
             ],
             [
              0.6666666666666666,
              "#ed7953"
             ],
             [
              0.7777777777777778,
              "#fb9f3a"
             ],
             [
              0.8888888888888888,
              "#fdca26"
             ],
             [
              1,
              "#f0f921"
             ]
            ],
            "type": "histogram2dcontour"
           }
          ],
          "mesh3d": [
           {
            "colorbar": {
             "outlinewidth": 0,
             "ticks": ""
            },
            "type": "mesh3d"
           }
          ],
          "parcoords": [
           {
            "line": {
             "colorbar": {
              "outlinewidth": 0,
              "ticks": ""
             }
            },
            "type": "parcoords"
           }
          ],
          "pie": [
           {
            "automargin": true,
            "type": "pie"
           }
          ],
          "scatter": [
           {
            "marker": {
             "colorbar": {
              "outlinewidth": 0,
              "ticks": ""
             }
            },
            "type": "scatter"
           }
          ],
          "scatter3d": [
           {
            "line": {
             "colorbar": {
              "outlinewidth": 0,
              "ticks": ""
             }
            },
            "marker": {
             "colorbar": {
              "outlinewidth": 0,
              "ticks": ""
             }
            },
            "type": "scatter3d"
           }
          ],
          "scattercarpet": [
           {
            "marker": {
             "colorbar": {
              "outlinewidth": 0,
              "ticks": ""
             }
            },
            "type": "scattercarpet"
           }
          ],
          "scattergeo": [
           {
            "marker": {
             "colorbar": {
              "outlinewidth": 0,
              "ticks": ""
             }
            },
            "type": "scattergeo"
           }
          ],
          "scattergl": [
           {
            "marker": {
             "colorbar": {
              "outlinewidth": 0,
              "ticks": ""
             }
            },
            "type": "scattergl"
           }
          ],
          "scattermapbox": [
           {
            "marker": {
             "colorbar": {
              "outlinewidth": 0,
              "ticks": ""
             }
            },
            "type": "scattermapbox"
           }
          ],
          "scatterpolar": [
           {
            "marker": {
             "colorbar": {
              "outlinewidth": 0,
              "ticks": ""
             }
            },
            "type": "scatterpolar"
           }
          ],
          "scatterpolargl": [
           {
            "marker": {
             "colorbar": {
              "outlinewidth": 0,
              "ticks": ""
             }
            },
            "type": "scatterpolargl"
           }
          ],
          "scatterternary": [
           {
            "marker": {
             "colorbar": {
              "outlinewidth": 0,
              "ticks": ""
             }
            },
            "type": "scatterternary"
           }
          ],
          "surface": [
           {
            "colorbar": {
             "outlinewidth": 0,
             "ticks": ""
            },
            "colorscale": [
             [
              0,
              "#0d0887"
             ],
             [
              0.1111111111111111,
              "#46039f"
             ],
             [
              0.2222222222222222,
              "#7201a8"
             ],
             [
              0.3333333333333333,
              "#9c179e"
             ],
             [
              0.4444444444444444,
              "#bd3786"
             ],
             [
              0.5555555555555556,
              "#d8576b"
             ],
             [
              0.6666666666666666,
              "#ed7953"
             ],
             [
              0.7777777777777778,
              "#fb9f3a"
             ],
             [
              0.8888888888888888,
              "#fdca26"
             ],
             [
              1,
              "#f0f921"
             ]
            ],
            "type": "surface"
           }
          ],
          "table": [
           {
            "cells": {
             "fill": {
              "color": "#EBF0F8"
             },
             "line": {
              "color": "white"
             }
            },
            "header": {
             "fill": {
              "color": "#C8D4E3"
             },
             "line": {
              "color": "white"
             }
            },
            "type": "table"
           }
          ]
         },
         "layout": {
          "annotationdefaults": {
           "arrowcolor": "#2a3f5f",
           "arrowhead": 0,
           "arrowwidth": 1
          },
          "autotypenumbers": "strict",
          "coloraxis": {
           "colorbar": {
            "outlinewidth": 0,
            "ticks": ""
           }
          },
          "colorscale": {
           "diverging": [
            [
             0,
             "#8e0152"
            ],
            [
             0.1,
             "#c51b7d"
            ],
            [
             0.2,
             "#de77ae"
            ],
            [
             0.3,
             "#f1b6da"
            ],
            [
             0.4,
             "#fde0ef"
            ],
            [
             0.5,
             "#f7f7f7"
            ],
            [
             0.6,
             "#e6f5d0"
            ],
            [
             0.7,
             "#b8e186"
            ],
            [
             0.8,
             "#7fbc41"
            ],
            [
             0.9,
             "#4d9221"
            ],
            [
             1,
             "#276419"
            ]
           ],
           "sequential": [
            [
             0,
             "#0d0887"
            ],
            [
             0.1111111111111111,
             "#46039f"
            ],
            [
             0.2222222222222222,
             "#7201a8"
            ],
            [
             0.3333333333333333,
             "#9c179e"
            ],
            [
             0.4444444444444444,
             "#bd3786"
            ],
            [
             0.5555555555555556,
             "#d8576b"
            ],
            [
             0.6666666666666666,
             "#ed7953"
            ],
            [
             0.7777777777777778,
             "#fb9f3a"
            ],
            [
             0.8888888888888888,
             "#fdca26"
            ],
            [
             1,
             "#f0f921"
            ]
           ],
           "sequentialminus": [
            [
             0,
             "#0d0887"
            ],
            [
             0.1111111111111111,
             "#46039f"
            ],
            [
             0.2222222222222222,
             "#7201a8"
            ],
            [
             0.3333333333333333,
             "#9c179e"
            ],
            [
             0.4444444444444444,
             "#bd3786"
            ],
            [
             0.5555555555555556,
             "#d8576b"
            ],
            [
             0.6666666666666666,
             "#ed7953"
            ],
            [
             0.7777777777777778,
             "#fb9f3a"
            ],
            [
             0.8888888888888888,
             "#fdca26"
            ],
            [
             1,
             "#f0f921"
            ]
           ]
          },
          "colorway": [
           "#636efa",
           "#EF553B",
           "#00cc96",
           "#ab63fa",
           "#FFA15A",
           "#19d3f3",
           "#FF6692",
           "#B6E880",
           "#FF97FF",
           "#FECB52"
          ],
          "font": {
           "color": "#2a3f5f"
          },
          "geo": {
           "bgcolor": "white",
           "lakecolor": "white",
           "landcolor": "#E5ECF6",
           "showlakes": true,
           "showland": true,
           "subunitcolor": "white"
          },
          "hoverlabel": {
           "align": "left"
          },
          "hovermode": "closest",
          "mapbox": {
           "style": "light"
          },
          "paper_bgcolor": "white",
          "plot_bgcolor": "#E5ECF6",
          "polar": {
           "angularaxis": {
            "gridcolor": "white",
            "linecolor": "white",
            "ticks": ""
           },
           "bgcolor": "#E5ECF6",
           "radialaxis": {
            "gridcolor": "white",
            "linecolor": "white",
            "ticks": ""
           }
          },
          "scene": {
           "xaxis": {
            "backgroundcolor": "#E5ECF6",
            "gridcolor": "white",
            "gridwidth": 2,
            "linecolor": "white",
            "showbackground": true,
            "ticks": "",
            "zerolinecolor": "white"
           },
           "yaxis": {
            "backgroundcolor": "#E5ECF6",
            "gridcolor": "white",
            "gridwidth": 2,
            "linecolor": "white",
            "showbackground": true,
            "ticks": "",
            "zerolinecolor": "white"
           },
           "zaxis": {
            "backgroundcolor": "#E5ECF6",
            "gridcolor": "white",
            "gridwidth": 2,
            "linecolor": "white",
            "showbackground": true,
            "ticks": "",
            "zerolinecolor": "white"
           }
          },
          "shapedefaults": {
           "line": {
            "color": "#2a3f5f"
           }
          },
          "ternary": {
           "aaxis": {
            "gridcolor": "white",
            "linecolor": "white",
            "ticks": ""
           },
           "baxis": {
            "gridcolor": "white",
            "linecolor": "white",
            "ticks": ""
           },
           "bgcolor": "#E5ECF6",
           "caxis": {
            "gridcolor": "white",
            "linecolor": "white",
            "ticks": ""
           }
          },
          "title": {
           "x": 0.05
          },
          "xaxis": {
           "automargin": true,
           "gridcolor": "white",
           "linecolor": "white",
           "ticks": "",
           "title": {
            "standoff": 15
           },
           "zerolinecolor": "white",
           "zerolinewidth": 2
          },
          "yaxis": {
           "automargin": true,
           "gridcolor": "white",
           "linecolor": "white",
           "ticks": "",
           "title": {
            "standoff": 15
           },
           "zerolinecolor": "white",
           "zerolinewidth": 2
          }
         }
        },
        "xaxis": {
         "gridcolor": "black",
         "linecolor": "white",
         "linewidth": 2,
         "rangeslider": {
          "visible": false
         },
         "showline": true
        },
        "yaxis": {
         "gridcolor": "black",
         "linecolor": "white",
         "linewidth": 2,
         "showline": true
        }
       }
      },
      "text/html": [
       "<div>                            <div id=\"ee34a8bc-01ff-4211-b766-0d82a09851e5\" class=\"plotly-graph-div\" style=\"height:525px; width:100%;\"></div>            <script type=\"text/javascript\">                require([\"plotly\"], function(Plotly) {                    window.PLOTLYENV=window.PLOTLYENV || {};                                    if (document.getElementById(\"ee34a8bc-01ff-4211-b766-0d82a09851e5\")) {                    Plotly.newPlot(                        \"ee34a8bc-01ff-4211-b766-0d82a09851e5\",                        [{\"close\":[49368.84765625,50582.625,50700.0859375,50504.796875,47672.12109375,47243.3046875,49362.5078125,50098.3359375,46737.48046875,46612.6328125,48896.72265625,47665.42578125,46202.14453125,46848.77734375,46707.015625,46880.27734375,48936.61328125,48628.51171875,50784.5390625,50822.1953125,50429.859375,50809.515625,50640.41796875,47588.85546875,46444.7109375,47178.125,46306.4453125,47686.8125,47345.21875,46458.1171875,45897.57421875,43569.00390625,43160.9296875,41557.90234375,41733.94140625,41911.6015625,41821.26171875,42735.85546875,43949.1015625,42591.5703125,43099.69921875,43177.3984375,43113.87890625,42250.55078125,42375.6328125,41744.328125,40680.41796875,36457.31640625,35030.25,36276.8046875,36654.328125,36954.00390625,36852.12109375,37138.234375,37784.33203125,38138.1796875,37917.6015625,38483.125,38743.2734375,36952.984375,37154.6015625,41500.875,41441.1640625,42412.43359375,43840.28515625,44118.4453125,44338.796875,43565.11328125,42407.9375,42244.46875,42197.515625,42586.91796875,44575.203125,43961.859375,40538.01171875,40030.9765625,40122.15625,38431.37890625,37075.28125,38286.02734375,37296.5703125,38332.609375,39214.21875,39105.1484375,37709.78515625,43193.234375,44354.63671875,43924.1171875,42451.7890625],\"decreasing\":{\"line\":{\"color\":\"mediumorchid\"}},\"high\":[49768.1484375,50929.51953125,51934.78125,51171.375,50797.1640625,50015.25390625,49458.2109375,50724.8671875,50205.0,48431.3984375,49473.95703125,49425.57421875,48004.89453125,47313.828125,48089.6640625,47401.71875,49300.91796875,49544.796875,51332.33984375,51814.02734375,51176.59765625,51196.37890625,51956.328125,50679.859375,48119.7421875,47879.96484375,48472.52734375,47827.3125,47881.40625,47510.7265625,47406.546875,46929.046875,43748.71875,43153.5703125,42228.94140625,42663.94921875,42199.484375,43001.15625,44135.3671875,44278.421875,43346.6875,43724.671875,43436.80859375,43179.390625,42534.40234375,42478.3046875,43413.0234375,41060.52734375,36688.8125,36433.3125,37247.51953125,37444.5703125,38825.41015625,37148.32421875,37952.87890625,38576.26171875,38266.33984375,38647.26171875,39115.1328125,38834.6171875,37154.6015625,41527.78515625,41847.1640625,42500.78515625,44401.86328125,45293.8671875,44727.80078125,45661.171875,43810.83203125,42992.55078125,42693.0546875,42775.77734375,44667.21875,44578.27734375,44132.97265625,40929.15234375,40418.87890625,40119.890625,39394.4375,38359.85546875,39122.39453125,38968.83984375,39630.32421875,40005.34765625,39778.94140625,43760.45703125,44793.6015625,45077.578125,44021.578125],\"increasing\":{\"line\":{\"color\":\"yellow\"}},\"low\":[47857.49609375,47281.03515625,50175.80859375,48765.98828125,47358.3515625,47023.69921875,46942.34765625,48725.8515625,45894.84765625,46424.49609375,46671.96484375,47529.87890625,45618.21484375,45598.44140625,46502.953125,45579.80859375,46698.7734375,48450.94140625,48065.8359375,50514.49609375,50236.70703125,49623.10546875,50499.46875,47414.2109375,46201.49609375,46060.3125,45819.953125,46288.484375,46856.9375,45835.96484375,45752.46484375,42798.22265625,42645.5390625,41077.4453125,40672.27734375,41338.16015625,39796.5703125,41407.75390625,42528.98828125,42447.04296875,41982.6171875,42669.03515625,42691.0234375,41680.3203125,41392.21484375,41242.9140625,40672.82421875,35791.42578125,34349.25,34784.96875,33184.05859375,35779.4296875,36374.90625,35629.28125,36211.109375,37406.47265625,37437.7109375,36733.57421875,38113.6640625,36832.73046875,36375.5390625,37093.62890625,41038.09765625,41244.90625,41748.15625,42807.8359375,43232.96875,43402.80859375,42114.5390625,41852.57421875,41950.94140625,41681.95703125,42491.03515625,43456.69140625,40249.37109375,39637.6171875,39713.05859375,38112.8125,36950.4765625,36488.93359375,37201.81640625,34459.21875,38111.34375,38702.53515625,37268.9765625,37518.21484375,42952.5859375,43432.8515625,41914.75],\"open\":[49201.51953125,49413.48046875,50581.828125,50667.6484375,50450.08203125,47642.14453125,47264.6328125,49354.85546875,50114.7421875,46709.82421875,48379.75390625,48900.46484375,47653.73046875,46219.25390625,46853.8671875,46707.0625,46886.078125,48937.09765625,48626.34375,50806.05078125,50854.91796875,50428.69140625,50802.609375,50679.859375,47623.87109375,46490.60546875,47169.37109375,46311.74609375,47680.92578125,47343.54296875,46458.8515625,45899.359375,43565.51171875,43153.5703125,41561.46484375,41734.7265625,41910.23046875,41819.5078125,42742.1796875,43946.7421875,42598.87109375,43101.8984375,43172.0390625,43118.12109375,42250.07421875,42374.0390625,41744.02734375,40699.60546875,36471.58984375,35047.359375,36275.734375,36654.8046875,36950.515625,36841.87890625,37128.4453125,37780.71484375,38151.91796875,37920.28125,38481.765625,38743.71484375,36944.8046875,37149.265625,41501.48046875,41441.12109375,42406.78125,43854.65234375,44096.703125,44347.80078125,43571.12890625,42412.30078125,42236.56640625,42157.3984375,42586.46484375,44578.27734375,43937.0703125,40552.1328125,40026.0234375,40118.1015625,38423.2109375,37068.76953125,38285.28125,37278.56640625,38333.74609375,39213.08203125,39098.69921875,37706.0,43194.50390625,44357.6171875,43925.1953125],\"type\":\"candlestick\",\"x\":[\"2021-12-05T00:00:00\",\"2021-12-06T00:00:00\",\"2021-12-07T00:00:00\",\"2021-12-08T00:00:00\",\"2021-12-09T00:00:00\",\"2021-12-10T00:00:00\",\"2021-12-11T00:00:00\",\"2021-12-12T00:00:00\",\"2021-12-13T00:00:00\",\"2021-12-14T00:00:00\",\"2021-12-15T00:00:00\",\"2021-12-16T00:00:00\",\"2021-12-17T00:00:00\",\"2021-12-18T00:00:00\",\"2021-12-19T00:00:00\",\"2021-12-20T00:00:00\",\"2021-12-21T00:00:00\",\"2021-12-22T00:00:00\",\"2021-12-23T00:00:00\",\"2021-12-24T00:00:00\",\"2021-12-25T00:00:00\",\"2021-12-26T00:00:00\",\"2021-12-27T00:00:00\",\"2021-12-28T00:00:00\",\"2021-12-29T00:00:00\",\"2021-12-30T00:00:00\",\"2021-12-31T00:00:00\",\"2022-01-01T00:00:00\",\"2022-01-02T00:00:00\",\"2022-01-03T00:00:00\",\"2022-01-04T00:00:00\",\"2022-01-05T00:00:00\",\"2022-01-06T00:00:00\",\"2022-01-07T00:00:00\",\"2022-01-08T00:00:00\",\"2022-01-09T00:00:00\",\"2022-01-10T00:00:00\",\"2022-01-11T00:00:00\",\"2022-01-12T00:00:00\",\"2022-01-13T00:00:00\",\"2022-01-14T00:00:00\",\"2022-01-15T00:00:00\",\"2022-01-16T00:00:00\",\"2022-01-17T00:00:00\",\"2022-01-18T00:00:00\",\"2022-01-19T00:00:00\",\"2022-01-20T00:00:00\",\"2022-01-21T00:00:00\",\"2022-01-22T00:00:00\",\"2022-01-23T00:00:00\",\"2022-01-24T00:00:00\",\"2022-01-25T00:00:00\",\"2022-01-26T00:00:00\",\"2022-01-27T00:00:00\",\"2022-01-28T00:00:00\",\"2022-01-29T00:00:00\",\"2022-01-30T00:00:00\",\"2022-01-31T00:00:00\",\"2022-02-01T00:00:00\",\"2022-02-02T00:00:00\",\"2022-02-03T00:00:00\",\"2022-02-04T00:00:00\",\"2022-02-05T00:00:00\",\"2022-02-06T00:00:00\",\"2022-02-07T00:00:00\",\"2022-02-08T00:00:00\",\"2022-02-09T00:00:00\",\"2022-02-10T00:00:00\",\"2022-02-11T00:00:00\",\"2022-02-12T00:00:00\",\"2022-02-13T00:00:00\",\"2022-02-14T00:00:00\",\"2022-02-15T00:00:00\",\"2022-02-16T00:00:00\",\"2022-02-17T00:00:00\",\"2022-02-18T00:00:00\",\"2022-02-19T00:00:00\",\"2022-02-20T00:00:00\",\"2022-02-21T00:00:00\",\"2022-02-22T00:00:00\",\"2022-02-23T00:00:00\",\"2022-02-24T00:00:00\",\"2022-02-25T00:00:00\",\"2022-02-26T00:00:00\",\"2022-02-27T00:00:00\",\"2022-02-28T00:00:00\",\"2022-03-01T00:00:00\",\"2022-03-02T00:00:00\",\"2022-03-03T00:00:00\"]},{\"line\":{\"color\":\"red\",\"width\":2},\"name\":\"Support/Resistance\",\"type\":\"scatter\",\"x\":[\"2021-12-05T00:00:00\",\"2021-12-06T00:00:00\",\"2021-12-07T00:00:00\",\"2021-12-08T00:00:00\",\"2021-12-09T00:00:00\",\"2021-12-10T00:00:00\",\"2021-12-11T00:00:00\",\"2021-12-12T00:00:00\",\"2021-12-13T00:00:00\",\"2021-12-14T00:00:00\",\"2021-12-15T00:00:00\",\"2021-12-16T00:00:00\",\"2021-12-17T00:00:00\",\"2021-12-18T00:00:00\",\"2021-12-19T00:00:00\",\"2021-12-20T00:00:00\",\"2021-12-21T00:00:00\",\"2021-12-22T00:00:00\",\"2021-12-23T00:00:00\",\"2021-12-24T00:00:00\",\"2021-12-25T00:00:00\",\"2021-12-26T00:00:00\",\"2021-12-27T00:00:00\",\"2021-12-28T00:00:00\",\"2021-12-29T00:00:00\",\"2021-12-30T00:00:00\",\"2021-12-31T00:00:00\",\"2022-01-01T00:00:00\",\"2022-01-02T00:00:00\",\"2022-01-03T00:00:00\",\"2022-01-04T00:00:00\",\"2022-01-05T00:00:00\",\"2022-01-06T00:00:00\",\"2022-01-07T00:00:00\",\"2022-01-08T00:00:00\",\"2022-01-09T00:00:00\",\"2022-01-10T00:00:00\",\"2022-01-11T00:00:00\",\"2022-01-12T00:00:00\",\"2022-01-13T00:00:00\",\"2022-01-14T00:00:00\",\"2022-01-15T00:00:00\",\"2022-01-16T00:00:00\",\"2022-01-17T00:00:00\",\"2022-01-18T00:00:00\",\"2022-01-19T00:00:00\",\"2022-01-20T00:00:00\",\"2022-01-21T00:00:00\",\"2022-01-22T00:00:00\",\"2022-01-23T00:00:00\",\"2022-01-24T00:00:00\",\"2022-01-25T00:00:00\",\"2022-01-26T00:00:00\",\"2022-01-27T00:00:00\",\"2022-01-28T00:00:00\",\"2022-01-29T00:00:00\",\"2022-01-30T00:00:00\",\"2022-01-31T00:00:00\",\"2022-02-01T00:00:00\",\"2022-02-02T00:00:00\",\"2022-02-03T00:00:00\",\"2022-02-04T00:00:00\",\"2022-02-05T00:00:00\",\"2022-02-06T00:00:00\",\"2022-02-07T00:00:00\",\"2022-02-08T00:00:00\",\"2022-02-09T00:00:00\",\"2022-02-10T00:00:00\",\"2022-02-11T00:00:00\",\"2022-02-12T00:00:00\",\"2022-02-13T00:00:00\",\"2022-02-14T00:00:00\",\"2022-02-15T00:00:00\",\"2022-02-16T00:00:00\",\"2022-02-17T00:00:00\",\"2022-02-18T00:00:00\",\"2022-02-19T00:00:00\",\"2022-02-20T00:00:00\",\"2022-02-21T00:00:00\",\"2022-02-22T00:00:00\",\"2022-02-23T00:00:00\",\"2022-02-24T00:00:00\",\"2022-02-25T00:00:00\",\"2022-02-26T00:00:00\",\"2022-02-27T00:00:00\",\"2022-02-28T00:00:00\",\"2022-03-01T00:00:00\",\"2022-03-02T00:00:00\",\"2022-03-03T00:00:00\"],\"y\":[45000,45000,45000,45000,45000,45000,45000,45000,45000,45000,45000,45000,45000,45000,45000,45000,45000,45000,45000,45000,45000,45000,45000,45000,45000,45000,45000,45000,45000,45000,45000,45000,45000,45000,45000,45000,45000,45000,45000,45000,45000,45000,45000,45000,45000,45000,45000,45000,45000,45000,45000,45000,45000,45000,45000,45000,45000,45000,45000,45000,45000,45000,45000,45000,45000,45000,45000,45000,45000,45000,45000,45000,45000,45000,45000,45000,45000,45000,45000,45000,45000,45000,45000,45000,45000,45000,45000,45000,45000]},{\"line\":{\"color\":\"red\",\"width\":2},\"name\":\"Support/Resistance\",\"type\":\"scatter\",\"x\":[\"2021-12-05T00:00:00\",\"2021-12-06T00:00:00\",\"2021-12-07T00:00:00\",\"2021-12-08T00:00:00\",\"2021-12-09T00:00:00\",\"2021-12-10T00:00:00\",\"2021-12-11T00:00:00\",\"2021-12-12T00:00:00\",\"2021-12-13T00:00:00\",\"2021-12-14T00:00:00\",\"2021-12-15T00:00:00\",\"2021-12-16T00:00:00\",\"2021-12-17T00:00:00\",\"2021-12-18T00:00:00\",\"2021-12-19T00:00:00\",\"2021-12-20T00:00:00\",\"2021-12-21T00:00:00\",\"2021-12-22T00:00:00\",\"2021-12-23T00:00:00\",\"2021-12-24T00:00:00\",\"2021-12-25T00:00:00\",\"2021-12-26T00:00:00\",\"2021-12-27T00:00:00\",\"2021-12-28T00:00:00\",\"2021-12-29T00:00:00\",\"2021-12-30T00:00:00\",\"2021-12-31T00:00:00\",\"2022-01-01T00:00:00\",\"2022-01-02T00:00:00\",\"2022-01-03T00:00:00\",\"2022-01-04T00:00:00\",\"2022-01-05T00:00:00\",\"2022-01-06T00:00:00\",\"2022-01-07T00:00:00\",\"2022-01-08T00:00:00\",\"2022-01-09T00:00:00\",\"2022-01-10T00:00:00\",\"2022-01-11T00:00:00\",\"2022-01-12T00:00:00\",\"2022-01-13T00:00:00\",\"2022-01-14T00:00:00\",\"2022-01-15T00:00:00\",\"2022-01-16T00:00:00\",\"2022-01-17T00:00:00\",\"2022-01-18T00:00:00\",\"2022-01-19T00:00:00\",\"2022-01-20T00:00:00\",\"2022-01-21T00:00:00\",\"2022-01-22T00:00:00\",\"2022-01-23T00:00:00\",\"2022-01-24T00:00:00\",\"2022-01-25T00:00:00\",\"2022-01-26T00:00:00\",\"2022-01-27T00:00:00\",\"2022-01-28T00:00:00\",\"2022-01-29T00:00:00\",\"2022-01-30T00:00:00\",\"2022-01-31T00:00:00\",\"2022-02-01T00:00:00\",\"2022-02-02T00:00:00\",\"2022-02-03T00:00:00\",\"2022-02-04T00:00:00\",\"2022-02-05T00:00:00\",\"2022-02-06T00:00:00\",\"2022-02-07T00:00:00\",\"2022-02-08T00:00:00\",\"2022-02-09T00:00:00\",\"2022-02-10T00:00:00\",\"2022-02-11T00:00:00\",\"2022-02-12T00:00:00\",\"2022-02-13T00:00:00\",\"2022-02-14T00:00:00\",\"2022-02-15T00:00:00\",\"2022-02-16T00:00:00\",\"2022-02-17T00:00:00\",\"2022-02-18T00:00:00\",\"2022-02-19T00:00:00\",\"2022-02-20T00:00:00\",\"2022-02-21T00:00:00\",\"2022-02-22T00:00:00\",\"2022-02-23T00:00:00\",\"2022-02-24T00:00:00\",\"2022-02-25T00:00:00\",\"2022-02-26T00:00:00\",\"2022-02-27T00:00:00\",\"2022-02-28T00:00:00\",\"2022-03-01T00:00:00\",\"2022-03-02T00:00:00\",\"2022-03-03T00:00:00\"],\"y\":[51000,51000,51000,51000,51000,51000,51000,51000,51000,51000,51000,51000,51000,51000,51000,51000,51000,51000,51000,51000,51000,51000,51000,51000,51000,51000,51000,51000,51000,51000,51000,51000,51000,51000,51000,51000,51000,51000,51000,51000,51000,51000,51000,51000,51000,51000,51000,51000,51000,51000,51000,51000,51000,51000,51000,51000,51000,51000,51000,51000,51000,51000,51000,51000,51000,51000,51000,51000,51000,51000,51000,51000,51000,51000,51000,51000,51000,51000,51000,51000,51000,51000,51000,51000,51000,51000,51000,51000,51000]},{\"marker\":{\"color\":\"moccasin\",\"size\":1},\"mode\":\"markers\",\"name\":\"Signal\",\"type\":\"scatter\",\"x\":[\"2021-12-05T00:00:00\",\"2021-12-06T00:00:00\",\"2021-12-07T00:00:00\",\"2021-12-08T00:00:00\",\"2021-12-09T00:00:00\",\"2021-12-10T00:00:00\",\"2021-12-11T00:00:00\",\"2021-12-12T00:00:00\",\"2021-12-13T00:00:00\",\"2021-12-14T00:00:00\",\"2021-12-15T00:00:00\",\"2021-12-16T00:00:00\",\"2021-12-17T00:00:00\",\"2021-12-18T00:00:00\",\"2021-12-19T00:00:00\",\"2021-12-20T00:00:00\",\"2021-12-21T00:00:00\",\"2021-12-22T00:00:00\",\"2021-12-23T00:00:00\",\"2021-12-24T00:00:00\",\"2021-12-25T00:00:00\",\"2021-12-26T00:00:00\",\"2021-12-27T00:00:00\",\"2021-12-28T00:00:00\",\"2021-12-29T00:00:00\",\"2021-12-30T00:00:00\",\"2021-12-31T00:00:00\",\"2022-01-01T00:00:00\",\"2022-01-02T00:00:00\",\"2022-01-03T00:00:00\",\"2022-01-04T00:00:00\",\"2022-01-05T00:00:00\",\"2022-01-06T00:00:00\",\"2022-01-07T00:00:00\",\"2022-01-08T00:00:00\",\"2022-01-09T00:00:00\",\"2022-01-10T00:00:00\",\"2022-01-11T00:00:00\",\"2022-01-12T00:00:00\",\"2022-01-13T00:00:00\",\"2022-01-14T00:00:00\",\"2022-01-15T00:00:00\",\"2022-01-16T00:00:00\",\"2022-01-17T00:00:00\",\"2022-01-18T00:00:00\",\"2022-01-19T00:00:00\",\"2022-01-20T00:00:00\",\"2022-01-21T00:00:00\",\"2022-01-22T00:00:00\",\"2022-01-23T00:00:00\",\"2022-01-24T00:00:00\",\"2022-01-25T00:00:00\",\"2022-01-26T00:00:00\",\"2022-01-27T00:00:00\",\"2022-01-28T00:00:00\",\"2022-01-29T00:00:00\",\"2022-01-30T00:00:00\",\"2022-01-31T00:00:00\",\"2022-02-01T00:00:00\",\"2022-02-02T00:00:00\",\"2022-02-03T00:00:00\",\"2022-02-04T00:00:00\",\"2022-02-05T00:00:00\",\"2022-02-06T00:00:00\",\"2022-02-07T00:00:00\",\"2022-02-08T00:00:00\",\"2022-02-09T00:00:00\",\"2022-02-10T00:00:00\",\"2022-02-11T00:00:00\",\"2022-02-12T00:00:00\",\"2022-02-13T00:00:00\",\"2022-02-14T00:00:00\",\"2022-02-15T00:00:00\",\"2022-02-16T00:00:00\",\"2022-02-17T00:00:00\",\"2022-02-18T00:00:00\",\"2022-02-19T00:00:00\",\"2022-02-20T00:00:00\",\"2022-02-21T00:00:00\",\"2022-02-22T00:00:00\",\"2022-02-23T00:00:00\",\"2022-02-24T00:00:00\",\"2022-02-25T00:00:00\",\"2022-02-26T00:00:00\",\"2022-02-27T00:00:00\",\"2022-02-28T00:00:00\",\"2022-03-01T00:00:00\",\"2022-03-02T00:00:00\",\"2022-03-03T00:00:00\"],\"y\":[47757.49609375,47181.03515625,50075.80859375,48665.98828125,47258.3515625,46923.69921875,46842.34765625,48625.8515625,45794.84765625,46324.49609375,46571.96484375,47429.87890625,45518.21484375,45498.44140625,46402.953125,45479.80859375,46598.7734375,48350.94140625,47965.8359375,50414.49609375,50136.70703125,49523.10546875,50399.46875,47314.2109375,46101.49609375,45960.3125,45719.953125,46188.484375,46756.9375,45735.96484375,45652.46484375,42698.22265625,42545.5390625,40977.4453125,40572.27734375,41238.16015625,39696.5703125,41307.75390625,42428.98828125,42347.04296875,41882.6171875,42569.03515625,42591.0234375,41580.3203125,41292.21484375,41142.9140625,40572.82421875,35691.42578125,34249.25,34684.96875,33084.05859375,35679.4296875,36274.90625,35529.28125,36111.109375,37306.47265625,37337.7109375,36633.57421875,38013.6640625,36732.73046875,36275.5390625,36993.62890625,40938.09765625,41144.90625,41648.15625,42707.8359375,43132.96875,43302.80859375,42014.5390625,41752.57421875,41850.94140625,41581.95703125,42391.03515625,43356.69140625,40149.37109375,39537.6171875,39613.05859375,38012.8125,36850.4765625,36388.93359375,37101.81640625,34359.21875,38011.34375,38602.53515625,37168.9765625,37418.21484375,42852.5859375,43332.8515625,41814.75]}],                        {\"margin\":{\"b\":0,\"l\":0,\"r\":50,\"t\":0},\"paper_bgcolor\":\"black\",\"plot_bgcolor\":\"black\",\"template\":{\"data\":{\"bar\":[{\"error_x\":{\"color\":\"#2a3f5f\"},\"error_y\":{\"color\":\"#2a3f5f\"},\"marker\":{\"line\":{\"color\":\"#E5ECF6\",\"width\":0.5},\"pattern\":{\"fillmode\":\"overlay\",\"size\":10,\"solidity\":0.2}},\"type\":\"bar\"}],\"barpolar\":[{\"marker\":{\"line\":{\"color\":\"#E5ECF6\",\"width\":0.5},\"pattern\":{\"fillmode\":\"overlay\",\"size\":10,\"solidity\":0.2}},\"type\":\"barpolar\"}],\"carpet\":[{\"aaxis\":{\"endlinecolor\":\"#2a3f5f\",\"gridcolor\":\"white\",\"linecolor\":\"white\",\"minorgridcolor\":\"white\",\"startlinecolor\":\"#2a3f5f\"},\"baxis\":{\"endlinecolor\":\"#2a3f5f\",\"gridcolor\":\"white\",\"linecolor\":\"white\",\"minorgridcolor\":\"white\",\"startlinecolor\":\"#2a3f5f\"},\"type\":\"carpet\"}],\"choropleth\":[{\"colorbar\":{\"outlinewidth\":0,\"ticks\":\"\"},\"type\":\"choropleth\"}],\"contour\":[{\"colorbar\":{\"outlinewidth\":0,\"ticks\":\"\"},\"colorscale\":[[0.0,\"#0d0887\"],[0.1111111111111111,\"#46039f\"],[0.2222222222222222,\"#7201a8\"],[0.3333333333333333,\"#9c179e\"],[0.4444444444444444,\"#bd3786\"],[0.5555555555555556,\"#d8576b\"],[0.6666666666666666,\"#ed7953\"],[0.7777777777777778,\"#fb9f3a\"],[0.8888888888888888,\"#fdca26\"],[1.0,\"#f0f921\"]],\"type\":\"contour\"}],\"contourcarpet\":[{\"colorbar\":{\"outlinewidth\":0,\"ticks\":\"\"},\"type\":\"contourcarpet\"}],\"heatmap\":[{\"colorbar\":{\"outlinewidth\":0,\"ticks\":\"\"},\"colorscale\":[[0.0,\"#0d0887\"],[0.1111111111111111,\"#46039f\"],[0.2222222222222222,\"#7201a8\"],[0.3333333333333333,\"#9c179e\"],[0.4444444444444444,\"#bd3786\"],[0.5555555555555556,\"#d8576b\"],[0.6666666666666666,\"#ed7953\"],[0.7777777777777778,\"#fb9f3a\"],[0.8888888888888888,\"#fdca26\"],[1.0,\"#f0f921\"]],\"type\":\"heatmap\"}],\"heatmapgl\":[{\"colorbar\":{\"outlinewidth\":0,\"ticks\":\"\"},\"colorscale\":[[0.0,\"#0d0887\"],[0.1111111111111111,\"#46039f\"],[0.2222222222222222,\"#7201a8\"],[0.3333333333333333,\"#9c179e\"],[0.4444444444444444,\"#bd3786\"],[0.5555555555555556,\"#d8576b\"],[0.6666666666666666,\"#ed7953\"],[0.7777777777777778,\"#fb9f3a\"],[0.8888888888888888,\"#fdca26\"],[1.0,\"#f0f921\"]],\"type\":\"heatmapgl\"}],\"histogram\":[{\"marker\":{\"pattern\":{\"fillmode\":\"overlay\",\"size\":10,\"solidity\":0.2}},\"type\":\"histogram\"}],\"histogram2d\":[{\"colorbar\":{\"outlinewidth\":0,\"ticks\":\"\"},\"colorscale\":[[0.0,\"#0d0887\"],[0.1111111111111111,\"#46039f\"],[0.2222222222222222,\"#7201a8\"],[0.3333333333333333,\"#9c179e\"],[0.4444444444444444,\"#bd3786\"],[0.5555555555555556,\"#d8576b\"],[0.6666666666666666,\"#ed7953\"],[0.7777777777777778,\"#fb9f3a\"],[0.8888888888888888,\"#fdca26\"],[1.0,\"#f0f921\"]],\"type\":\"histogram2d\"}],\"histogram2dcontour\":[{\"colorbar\":{\"outlinewidth\":0,\"ticks\":\"\"},\"colorscale\":[[0.0,\"#0d0887\"],[0.1111111111111111,\"#46039f\"],[0.2222222222222222,\"#7201a8\"],[0.3333333333333333,\"#9c179e\"],[0.4444444444444444,\"#bd3786\"],[0.5555555555555556,\"#d8576b\"],[0.6666666666666666,\"#ed7953\"],[0.7777777777777778,\"#fb9f3a\"],[0.8888888888888888,\"#fdca26\"],[1.0,\"#f0f921\"]],\"type\":\"histogram2dcontour\"}],\"mesh3d\":[{\"colorbar\":{\"outlinewidth\":0,\"ticks\":\"\"},\"type\":\"mesh3d\"}],\"parcoords\":[{\"line\":{\"colorbar\":{\"outlinewidth\":0,\"ticks\":\"\"}},\"type\":\"parcoords\"}],\"pie\":[{\"automargin\":true,\"type\":\"pie\"}],\"scatter\":[{\"marker\":{\"colorbar\":{\"outlinewidth\":0,\"ticks\":\"\"}},\"type\":\"scatter\"}],\"scatter3d\":[{\"line\":{\"colorbar\":{\"outlinewidth\":0,\"ticks\":\"\"}},\"marker\":{\"colorbar\":{\"outlinewidth\":0,\"ticks\":\"\"}},\"type\":\"scatter3d\"}],\"scattercarpet\":[{\"marker\":{\"colorbar\":{\"outlinewidth\":0,\"ticks\":\"\"}},\"type\":\"scattercarpet\"}],\"scattergeo\":[{\"marker\":{\"colorbar\":{\"outlinewidth\":0,\"ticks\":\"\"}},\"type\":\"scattergeo\"}],\"scattergl\":[{\"marker\":{\"colorbar\":{\"outlinewidth\":0,\"ticks\":\"\"}},\"type\":\"scattergl\"}],\"scattermapbox\":[{\"marker\":{\"colorbar\":{\"outlinewidth\":0,\"ticks\":\"\"}},\"type\":\"scattermapbox\"}],\"scatterpolar\":[{\"marker\":{\"colorbar\":{\"outlinewidth\":0,\"ticks\":\"\"}},\"type\":\"scatterpolar\"}],\"scatterpolargl\":[{\"marker\":{\"colorbar\":{\"outlinewidth\":0,\"ticks\":\"\"}},\"type\":\"scatterpolargl\"}],\"scatterternary\":[{\"marker\":{\"colorbar\":{\"outlinewidth\":0,\"ticks\":\"\"}},\"type\":\"scatterternary\"}],\"surface\":[{\"colorbar\":{\"outlinewidth\":0,\"ticks\":\"\"},\"colorscale\":[[0.0,\"#0d0887\"],[0.1111111111111111,\"#46039f\"],[0.2222222222222222,\"#7201a8\"],[0.3333333333333333,\"#9c179e\"],[0.4444444444444444,\"#bd3786\"],[0.5555555555555556,\"#d8576b\"],[0.6666666666666666,\"#ed7953\"],[0.7777777777777778,\"#fb9f3a\"],[0.8888888888888888,\"#fdca26\"],[1.0,\"#f0f921\"]],\"type\":\"surface\"}],\"table\":[{\"cells\":{\"fill\":{\"color\":\"#EBF0F8\"},\"line\":{\"color\":\"white\"}},\"header\":{\"fill\":{\"color\":\"#C8D4E3\"},\"line\":{\"color\":\"white\"}},\"type\":\"table\"}]},\"layout\":{\"annotationdefaults\":{\"arrowcolor\":\"#2a3f5f\",\"arrowhead\":0,\"arrowwidth\":1},\"autotypenumbers\":\"strict\",\"coloraxis\":{\"colorbar\":{\"outlinewidth\":0,\"ticks\":\"\"}},\"colorscale\":{\"diverging\":[[0,\"#8e0152\"],[0.1,\"#c51b7d\"],[0.2,\"#de77ae\"],[0.3,\"#f1b6da\"],[0.4,\"#fde0ef\"],[0.5,\"#f7f7f7\"],[0.6,\"#e6f5d0\"],[0.7,\"#b8e186\"],[0.8,\"#7fbc41\"],[0.9,\"#4d9221\"],[1,\"#276419\"]],\"sequential\":[[0.0,\"#0d0887\"],[0.1111111111111111,\"#46039f\"],[0.2222222222222222,\"#7201a8\"],[0.3333333333333333,\"#9c179e\"],[0.4444444444444444,\"#bd3786\"],[0.5555555555555556,\"#d8576b\"],[0.6666666666666666,\"#ed7953\"],[0.7777777777777778,\"#fb9f3a\"],[0.8888888888888888,\"#fdca26\"],[1.0,\"#f0f921\"]],\"sequentialminus\":[[0.0,\"#0d0887\"],[0.1111111111111111,\"#46039f\"],[0.2222222222222222,\"#7201a8\"],[0.3333333333333333,\"#9c179e\"],[0.4444444444444444,\"#bd3786\"],[0.5555555555555556,\"#d8576b\"],[0.6666666666666666,\"#ed7953\"],[0.7777777777777778,\"#fb9f3a\"],[0.8888888888888888,\"#fdca26\"],[1.0,\"#f0f921\"]]},\"colorway\":[\"#636efa\",\"#EF553B\",\"#00cc96\",\"#ab63fa\",\"#FFA15A\",\"#19d3f3\",\"#FF6692\",\"#B6E880\",\"#FF97FF\",\"#FECB52\"],\"font\":{\"color\":\"#2a3f5f\"},\"geo\":{\"bgcolor\":\"white\",\"lakecolor\":\"white\",\"landcolor\":\"#E5ECF6\",\"showlakes\":true,\"showland\":true,\"subunitcolor\":\"white\"},\"hoverlabel\":{\"align\":\"left\"},\"hovermode\":\"closest\",\"mapbox\":{\"style\":\"light\"},\"paper_bgcolor\":\"white\",\"plot_bgcolor\":\"#E5ECF6\",\"polar\":{\"angularaxis\":{\"gridcolor\":\"white\",\"linecolor\":\"white\",\"ticks\":\"\"},\"bgcolor\":\"#E5ECF6\",\"radialaxis\":{\"gridcolor\":\"white\",\"linecolor\":\"white\",\"ticks\":\"\"}},\"scene\":{\"xaxis\":{\"backgroundcolor\":\"#E5ECF6\",\"gridcolor\":\"white\",\"gridwidth\":2,\"linecolor\":\"white\",\"showbackground\":true,\"ticks\":\"\",\"zerolinecolor\":\"white\"},\"yaxis\":{\"backgroundcolor\":\"#E5ECF6\",\"gridcolor\":\"white\",\"gridwidth\":2,\"linecolor\":\"white\",\"showbackground\":true,\"ticks\":\"\",\"zerolinecolor\":\"white\"},\"zaxis\":{\"backgroundcolor\":\"#E5ECF6\",\"gridcolor\":\"white\",\"gridwidth\":2,\"linecolor\":\"white\",\"showbackground\":true,\"ticks\":\"\",\"zerolinecolor\":\"white\"}},\"shapedefaults\":{\"line\":{\"color\":\"#2a3f5f\"}},\"ternary\":{\"aaxis\":{\"gridcolor\":\"white\",\"linecolor\":\"white\",\"ticks\":\"\"},\"baxis\":{\"gridcolor\":\"white\",\"linecolor\":\"white\",\"ticks\":\"\"},\"bgcolor\":\"#E5ECF6\",\"caxis\":{\"gridcolor\":\"white\",\"linecolor\":\"white\",\"ticks\":\"\"}},\"title\":{\"x\":0.05},\"xaxis\":{\"automargin\":true,\"gridcolor\":\"white\",\"linecolor\":\"white\",\"ticks\":\"\",\"title\":{\"standoff\":15},\"zerolinecolor\":\"white\",\"zerolinewidth\":2},\"yaxis\":{\"automargin\":true,\"gridcolor\":\"white\",\"linecolor\":\"white\",\"ticks\":\"\",\"title\":{\"standoff\":15},\"zerolinecolor\":\"white\",\"zerolinewidth\":2}}},\"xaxis\":{\"gridcolor\":\"black\",\"linecolor\":\"white\",\"linewidth\":2,\"rangeslider\":{\"visible\":false},\"showline\":true},\"yaxis\":{\"gridcolor\":\"black\",\"linecolor\":\"white\",\"linewidth\":2,\"showline\":true}},                        {\"responsive\": true}                    ).then(function(){\n",
       "                            \n",
       "var gd = document.getElementById('ee34a8bc-01ff-4211-b766-0d82a09851e5');\n",
       "var x = new MutationObserver(function (mutations, observer) {{\n",
       "        var display = window.getComputedStyle(gd).display;\n",
       "        if (!display || display === 'none') {{\n",
       "            console.log([gd, 'removed!']);\n",
       "            Plotly.purge(gd);\n",
       "            observer.disconnect();\n",
       "        }}\n",
       "}});\n",
       "\n",
       "// Listen for the removal of the full notebook cells\n",
       "var notebookContainer = gd.closest('#notebook-container');\n",
       "if (notebookContainer) {{\n",
       "    x.observe(notebookContainer, {childList: true});\n",
       "}}\n",
       "\n",
       "// Listen for the clearing of the current output cell\n",
       "var outputEl = gd.closest('.output');\n",
       "if (outputEl) {{\n",
       "    x.observe(outputEl, {childList: true});\n",
       "}}\n",
       "\n",
       "                        })                };                });            </script>        </div>"
      ]
     },
     "metadata": {},
     "output_type": "display_data"
    }
   ],
   "source": [
    "dfpl = data[-90:-1]\n",
    "import plotly.graph_objects as go\n",
    "fig = go.Figure(data=[go.Candlestick(x=dfpl.index,\n",
    "                open=dfpl['Open'],\n",
    "                high=dfpl['High'],\n",
    "                low=dfpl['Low'],\n",
    "                close=dfpl['Close'],\n",
    "                increasing_line_color= 'yellow', decreasing_line_color= 'mediumorchid'),\n",
    "                go.Scatter(x=dfpl.index, y=[45000]*len(dfpl), line=dict(color='red', width=2), name=\"Support/Resistance\"),\n",
    "                go.Scatter(x=dfpl.index, y=[51000]*len(dfpl), line=dict(color='red', width=2), name=\"Support/Resistance\"),\n",
    "                go.Scatter(x=dfpl.index, y=dfpl.Low-100, mode=\"markers\", marker=dict(size=1, color=\"moccasin\"), name=\"Signal\")])\n",
    "fig.update(layout_xaxis_rangeslider_visible=False)\n",
    "fig.update_layout(paper_bgcolor=\"black\", plot_bgcolor=\"black\",\n",
    "                 margin_l=0, margin_b=0, margin_r=50, margin_t=0)\n",
    "fig.update_xaxes(showline=True, linewidth=2, linecolor='white', gridcolor='black')\n",
    "fig.update_yaxes(showline=True, linewidth=2, linecolor='white', gridcolor='black')\n",
    "fig.show()"
   ]
  },
  {
   "cell_type": "code",
   "execution_count": 60,
   "id": "4f283c56",
   "metadata": {},
   "outputs": [
    {
     "data": {
      "text/plain": [
       "Candlestick({\n",
       "    'close': array([49368.84765625, 50582.625     , 50700.0859375 , 50504.796875  ,\n",
       "                    47672.12109375, 47243.3046875 , 49362.5078125 , 50098.3359375 ,\n",
       "                    46737.48046875, 46612.6328125 , 48896.72265625, 47665.42578125,\n",
       "                    46202.14453125, 46848.77734375, 46707.015625  , 46880.27734375,\n",
       "                    48936.61328125, 48628.51171875, 50784.5390625 , 50822.1953125 ,\n",
       "                    50429.859375  , 50809.515625  , 50640.41796875, 47588.85546875,\n",
       "                    46444.7109375 , 47178.125     , 46306.4453125 , 47686.8125    ,\n",
       "                    47345.21875   , 46458.1171875 , 45897.57421875, 43569.00390625,\n",
       "                    43160.9296875 , 41557.90234375, 41733.94140625, 41911.6015625 ,\n",
       "                    41821.26171875, 42735.85546875, 43949.1015625 , 42591.5703125 ,\n",
       "                    43099.69921875, 43177.3984375 , 43113.87890625, 42250.55078125,\n",
       "                    42375.6328125 , 41744.328125  , 40680.41796875, 36457.31640625,\n",
       "                    35030.25      , 36276.8046875 , 36654.328125  , 36954.00390625,\n",
       "                    36852.12109375, 37138.234375  , 37784.33203125, 38138.1796875 ,\n",
       "                    37917.6015625 , 38483.125     , 38743.2734375 , 36952.984375  ,\n",
       "                    37154.6015625 , 41500.875     , 41441.1640625 , 42412.43359375,\n",
       "                    43840.28515625, 44118.4453125 , 44338.796875  , 43565.11328125,\n",
       "                    42407.9375    , 42244.46875   , 42197.515625  , 42586.91796875,\n",
       "                    44575.203125  , 43961.859375  , 40538.01171875, 40030.9765625 ,\n",
       "                    40122.15625   , 38431.37890625, 37075.28125   , 38286.02734375,\n",
       "                    37296.5703125 , 38332.609375  , 39214.21875   , 39105.1484375 ,\n",
       "                    37709.78515625, 43193.234375  , 44354.63671875, 43924.1171875 ,\n",
       "                    42451.7890625 ]),\n",
       "    'decreasing': {'line': {'color': 'mediumorchid'}},\n",
       "    'high': array([49768.1484375 , 50929.51953125, 51934.78125   , 51171.375     ,\n",
       "                   50797.1640625 , 50015.25390625, 49458.2109375 , 50724.8671875 ,\n",
       "                   50205.        , 48431.3984375 , 49473.95703125, 49425.57421875,\n",
       "                   48004.89453125, 47313.828125  , 48089.6640625 , 47401.71875   ,\n",
       "                   49300.91796875, 49544.796875  , 51332.33984375, 51814.02734375,\n",
       "                   51176.59765625, 51196.37890625, 51956.328125  , 50679.859375  ,\n",
       "                   48119.7421875 , 47879.96484375, 48472.52734375, 47827.3125    ,\n",
       "                   47881.40625   , 47510.7265625 , 47406.546875  , 46929.046875  ,\n",
       "                   43748.71875   , 43153.5703125 , 42228.94140625, 42663.94921875,\n",
       "                   42199.484375  , 43001.15625   , 44135.3671875 , 44278.421875  ,\n",
       "                   43346.6875    , 43724.671875  , 43436.80859375, 43179.390625  ,\n",
       "                   42534.40234375, 42478.3046875 , 43413.0234375 , 41060.52734375,\n",
       "                   36688.8125    , 36433.3125    , 37247.51953125, 37444.5703125 ,\n",
       "                   38825.41015625, 37148.32421875, 37952.87890625, 38576.26171875,\n",
       "                   38266.33984375, 38647.26171875, 39115.1328125 , 38834.6171875 ,\n",
       "                   37154.6015625 , 41527.78515625, 41847.1640625 , 42500.78515625,\n",
       "                   44401.86328125, 45293.8671875 , 44727.80078125, 45661.171875  ,\n",
       "                   43810.83203125, 42992.55078125, 42693.0546875 , 42775.77734375,\n",
       "                   44667.21875   , 44578.27734375, 44132.97265625, 40929.15234375,\n",
       "                   40418.87890625, 40119.890625  , 39394.4375    , 38359.85546875,\n",
       "                   39122.39453125, 38968.83984375, 39630.32421875, 40005.34765625,\n",
       "                   39778.94140625, 43760.45703125, 44793.6015625 , 45077.578125  ,\n",
       "                   44021.578125  ]),\n",
       "    'increasing': {'line': {'color': 'yellow'}},\n",
       "    'low': array([47857.49609375, 47281.03515625, 50175.80859375, 48765.98828125,\n",
       "                  47358.3515625 , 47023.69921875, 46942.34765625, 48725.8515625 ,\n",
       "                  45894.84765625, 46424.49609375, 46671.96484375, 47529.87890625,\n",
       "                  45618.21484375, 45598.44140625, 46502.953125  , 45579.80859375,\n",
       "                  46698.7734375 , 48450.94140625, 48065.8359375 , 50514.49609375,\n",
       "                  50236.70703125, 49623.10546875, 50499.46875   , 47414.2109375 ,\n",
       "                  46201.49609375, 46060.3125    , 45819.953125  , 46288.484375  ,\n",
       "                  46856.9375    , 45835.96484375, 45752.46484375, 42798.22265625,\n",
       "                  42645.5390625 , 41077.4453125 , 40672.27734375, 41338.16015625,\n",
       "                  39796.5703125 , 41407.75390625, 42528.98828125, 42447.04296875,\n",
       "                  41982.6171875 , 42669.03515625, 42691.0234375 , 41680.3203125 ,\n",
       "                  41392.21484375, 41242.9140625 , 40672.82421875, 35791.42578125,\n",
       "                  34349.25      , 34784.96875   , 33184.05859375, 35779.4296875 ,\n",
       "                  36374.90625   , 35629.28125   , 36211.109375  , 37406.47265625,\n",
       "                  37437.7109375 , 36733.57421875, 38113.6640625 , 36832.73046875,\n",
       "                  36375.5390625 , 37093.62890625, 41038.09765625, 41244.90625   ,\n",
       "                  41748.15625   , 42807.8359375 , 43232.96875   , 43402.80859375,\n",
       "                  42114.5390625 , 41852.57421875, 41950.94140625, 41681.95703125,\n",
       "                  42491.03515625, 43456.69140625, 40249.37109375, 39637.6171875 ,\n",
       "                  39713.05859375, 38112.8125    , 36950.4765625 , 36488.93359375,\n",
       "                  37201.81640625, 34459.21875   , 38111.34375   , 38702.53515625,\n",
       "                  37268.9765625 , 37518.21484375, 42952.5859375 , 43432.8515625 ,\n",
       "                  41914.75      ]),\n",
       "    'open': array([49201.51953125, 49413.48046875, 50581.828125  , 50667.6484375 ,\n",
       "                   50450.08203125, 47642.14453125, 47264.6328125 , 49354.85546875,\n",
       "                   50114.7421875 , 46709.82421875, 48379.75390625, 48900.46484375,\n",
       "                   47653.73046875, 46219.25390625, 46853.8671875 , 46707.0625    ,\n",
       "                   46886.078125  , 48937.09765625, 48626.34375   , 50806.05078125,\n",
       "                   50854.91796875, 50428.69140625, 50802.609375  , 50679.859375  ,\n",
       "                   47623.87109375, 46490.60546875, 47169.37109375, 46311.74609375,\n",
       "                   47680.92578125, 47343.54296875, 46458.8515625 , 45899.359375  ,\n",
       "                   43565.51171875, 43153.5703125 , 41561.46484375, 41734.7265625 ,\n",
       "                   41910.23046875, 41819.5078125 , 42742.1796875 , 43946.7421875 ,\n",
       "                   42598.87109375, 43101.8984375 , 43172.0390625 , 43118.12109375,\n",
       "                   42250.07421875, 42374.0390625 , 41744.02734375, 40699.60546875,\n",
       "                   36471.58984375, 35047.359375  , 36275.734375  , 36654.8046875 ,\n",
       "                   36950.515625  , 36841.87890625, 37128.4453125 , 37780.71484375,\n",
       "                   38151.91796875, 37920.28125   , 38481.765625  , 38743.71484375,\n",
       "                   36944.8046875 , 37149.265625  , 41501.48046875, 41441.12109375,\n",
       "                   42406.78125   , 43854.65234375, 44096.703125  , 44347.80078125,\n",
       "                   43571.12890625, 42412.30078125, 42236.56640625, 42157.3984375 ,\n",
       "                   42586.46484375, 44578.27734375, 43937.0703125 , 40552.1328125 ,\n",
       "                   40026.0234375 , 40118.1015625 , 38423.2109375 , 37068.76953125,\n",
       "                   38285.28125   , 37278.56640625, 38333.74609375, 39213.08203125,\n",
       "                   39098.69921875, 37706.        , 43194.50390625, 44357.6171875 ,\n",
       "                   43925.1953125 ]),\n",
       "    'x': array([datetime.datetime(2021, 12, 5, 0, 0),\n",
       "                datetime.datetime(2021, 12, 6, 0, 0),\n",
       "                datetime.datetime(2021, 12, 7, 0, 0),\n",
       "                datetime.datetime(2021, 12, 8, 0, 0),\n",
       "                datetime.datetime(2021, 12, 9, 0, 0),\n",
       "                datetime.datetime(2021, 12, 10, 0, 0),\n",
       "                datetime.datetime(2021, 12, 11, 0, 0),\n",
       "                datetime.datetime(2021, 12, 12, 0, 0),\n",
       "                datetime.datetime(2021, 12, 13, 0, 0),\n",
       "                datetime.datetime(2021, 12, 14, 0, 0),\n",
       "                datetime.datetime(2021, 12, 15, 0, 0),\n",
       "                datetime.datetime(2021, 12, 16, 0, 0),\n",
       "                datetime.datetime(2021, 12, 17, 0, 0),\n",
       "                datetime.datetime(2021, 12, 18, 0, 0),\n",
       "                datetime.datetime(2021, 12, 19, 0, 0),\n",
       "                datetime.datetime(2021, 12, 20, 0, 0),\n",
       "                datetime.datetime(2021, 12, 21, 0, 0),\n",
       "                datetime.datetime(2021, 12, 22, 0, 0),\n",
       "                datetime.datetime(2021, 12, 23, 0, 0),\n",
       "                datetime.datetime(2021, 12, 24, 0, 0),\n",
       "                datetime.datetime(2021, 12, 25, 0, 0),\n",
       "                datetime.datetime(2021, 12, 26, 0, 0),\n",
       "                datetime.datetime(2021, 12, 27, 0, 0),\n",
       "                datetime.datetime(2021, 12, 28, 0, 0),\n",
       "                datetime.datetime(2021, 12, 29, 0, 0),\n",
       "                datetime.datetime(2021, 12, 30, 0, 0),\n",
       "                datetime.datetime(2021, 12, 31, 0, 0),\n",
       "                datetime.datetime(2022, 1, 1, 0, 0),\n",
       "                datetime.datetime(2022, 1, 2, 0, 0),\n",
       "                datetime.datetime(2022, 1, 3, 0, 0),\n",
       "                datetime.datetime(2022, 1, 4, 0, 0),\n",
       "                datetime.datetime(2022, 1, 5, 0, 0),\n",
       "                datetime.datetime(2022, 1, 6, 0, 0),\n",
       "                datetime.datetime(2022, 1, 7, 0, 0),\n",
       "                datetime.datetime(2022, 1, 8, 0, 0),\n",
       "                datetime.datetime(2022, 1, 9, 0, 0),\n",
       "                datetime.datetime(2022, 1, 10, 0, 0),\n",
       "                datetime.datetime(2022, 1, 11, 0, 0),\n",
       "                datetime.datetime(2022, 1, 12, 0, 0),\n",
       "                datetime.datetime(2022, 1, 13, 0, 0),\n",
       "                datetime.datetime(2022, 1, 14, 0, 0),\n",
       "                datetime.datetime(2022, 1, 15, 0, 0),\n",
       "                datetime.datetime(2022, 1, 16, 0, 0),\n",
       "                datetime.datetime(2022, 1, 17, 0, 0),\n",
       "                datetime.datetime(2022, 1, 18, 0, 0),\n",
       "                datetime.datetime(2022, 1, 19, 0, 0),\n",
       "                datetime.datetime(2022, 1, 20, 0, 0),\n",
       "                datetime.datetime(2022, 1, 21, 0, 0),\n",
       "                datetime.datetime(2022, 1, 22, 0, 0),\n",
       "                datetime.datetime(2022, 1, 23, 0, 0),\n",
       "                datetime.datetime(2022, 1, 24, 0, 0),\n",
       "                datetime.datetime(2022, 1, 25, 0, 0),\n",
       "                datetime.datetime(2022, 1, 26, 0, 0),\n",
       "                datetime.datetime(2022, 1, 27, 0, 0),\n",
       "                datetime.datetime(2022, 1, 28, 0, 0),\n",
       "                datetime.datetime(2022, 1, 29, 0, 0),\n",
       "                datetime.datetime(2022, 1, 30, 0, 0),\n",
       "                datetime.datetime(2022, 1, 31, 0, 0),\n",
       "                datetime.datetime(2022, 2, 1, 0, 0),\n",
       "                datetime.datetime(2022, 2, 2, 0, 0),\n",
       "                datetime.datetime(2022, 2, 3, 0, 0),\n",
       "                datetime.datetime(2022, 2, 4, 0, 0),\n",
       "                datetime.datetime(2022, 2, 5, 0, 0),\n",
       "                datetime.datetime(2022, 2, 6, 0, 0),\n",
       "                datetime.datetime(2022, 2, 7, 0, 0),\n",
       "                datetime.datetime(2022, 2, 8, 0, 0),\n",
       "                datetime.datetime(2022, 2, 9, 0, 0),\n",
       "                datetime.datetime(2022, 2, 10, 0, 0),\n",
       "                datetime.datetime(2022, 2, 11, 0, 0),\n",
       "                datetime.datetime(2022, 2, 12, 0, 0),\n",
       "                datetime.datetime(2022, 2, 13, 0, 0),\n",
       "                datetime.datetime(2022, 2, 14, 0, 0),\n",
       "                datetime.datetime(2022, 2, 15, 0, 0),\n",
       "                datetime.datetime(2022, 2, 16, 0, 0),\n",
       "                datetime.datetime(2022, 2, 17, 0, 0),\n",
       "                datetime.datetime(2022, 2, 18, 0, 0),\n",
       "                datetime.datetime(2022, 2, 19, 0, 0),\n",
       "                datetime.datetime(2022, 2, 20, 0, 0),\n",
       "                datetime.datetime(2022, 2, 21, 0, 0),\n",
       "                datetime.datetime(2022, 2, 22, 0, 0),\n",
       "                datetime.datetime(2022, 2, 23, 0, 0),\n",
       "                datetime.datetime(2022, 2, 24, 0, 0),\n",
       "                datetime.datetime(2022, 2, 25, 0, 0),\n",
       "                datetime.datetime(2022, 2, 26, 0, 0),\n",
       "                datetime.datetime(2022, 2, 27, 0, 0),\n",
       "                datetime.datetime(2022, 2, 28, 0, 0),\n",
       "                datetime.datetime(2022, 3, 1, 0, 0),\n",
       "                datetime.datetime(2022, 3, 2, 0, 0),\n",
       "                datetime.datetime(2022, 3, 3, 0, 0)], dtype=object)\n",
       "})"
      ]
     },
     "execution_count": 60,
     "metadata": {},
     "output_type": "execute_result"
    }
   ],
   "source": [
    "fig.data[0]"
   ]
  },
  {
   "cell_type": "code",
   "execution_count": null,
   "id": "0f69d5c9",
   "metadata": {},
   "outputs": [],
   "source": []
  }
 ],
 "metadata": {
  "kernelspec": {
   "display_name": "Python 3 (ipykernel)",
   "language": "python",
   "name": "python3"
  },
  "language_info": {
   "codemirror_mode": {
    "name": "ipython",
    "version": 3
   },
   "file_extension": ".py",
   "mimetype": "text/x-python",
   "name": "python",
   "nbconvert_exporter": "python",
   "pygments_lexer": "ipython3",
   "version": "3.7.3"
  }
 },
 "nbformat": 4,
 "nbformat_minor": 5
}
